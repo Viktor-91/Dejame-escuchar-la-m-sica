{
 "cells": [
  {
   "cell_type": "markdown",
   "metadata": {
    "id": "E0vqbgi9ay0H"
   },
   "source": [
    "# Déjame escuchar la música"
   ]
  },
  {
   "cell_type": "markdown",
   "metadata": {
    "id": "fhq_eyov_Zcs"
   },
   "source": [
    "# Contenido <a id='back'></a>\n",
    "\n",
    "* [Introducción](#intro)\n",
    "* [Etapa 1. Descripción de los datos](#data_review)\n",
    "    * [Conclusiones](#data_review_conclusions)\n",
    "* [Etapa 2. Preprocesamiento de datos](#data_preprocessing)\n",
    "    * [2.1 Estilo del encabezado](#header_style)\n",
    "    * [2.2 Valores ausentes](#missing_values)\n",
    "    * [2.3 Duplicados](#duplicates)\n",
    "    * [2.4 Conclusiones](#data_preprocessing_conclusions)\n",
    "* [Etapa 3. Prueba de hipótesis](#hypothesis)\n",
    "    * [3.1 Hipótesis 1: actividad de los usuarios y las usuarias en las dos ciudades](#activity)\n",
    "* [Conclusiones](#end)"
   ]
  },
  {
   "cell_type": "markdown",
   "metadata": {
    "id": "VUC88oWjTJw2"
   },
   "source": [
    "## Introducción <a id='intro'></a>\n",
    "Como analista de datos, mi trabajo consiste en analizar datos para extraer información valiosa y tomar decisiones basadas en ellos. Esto implica diferentes etapas, como la descripción general de los datos, el preprocesamiento y la prueba de hipótesis.\n",
    "\n",
    "Siempre que investigamos, necesitamos formular hipótesis que después podamos probar. A veces aceptamos estas hipótesis; otras veces, las rechazamos. Para tomar las decisiones correctas, una empresa debe ser capaz de entender si está haciendo las suposiciones correctas.\n",
    "\n",
    "En este proyecto, comparé las preferencias musicales de las ciudades de Springfield y Shelbyville. Estudié datos reales de transmisión de música online para probar la hipótesis a continuación y comparé el comportamiento de los usuarios y las usuarias de estas dos ciudades.\n",
    "\n",
    "### Objetivo:\n",
    "Prueba la hipótesis:\n",
    "1. La actividad de los usuarios y las usuarias difiere según el día de la semana y dependiendo de la ciudad.\n",
    "\n",
    "\n",
    "### Etapas\n",
    "Los datos del comportamiento del usuario se almacenan en el archivo `/datasets/music_project_en.csv`. No hay ninguna información sobre la calidad de los datos, así que necesitarás examinarlos antes de probar la hipótesis.\n",
    "\n",
    "Primero, evaluarás la calidad de los datos y verás si los problemas son significativos. Entonces, durante el preprocesamiento de datos, tomarás en cuenta los problemas más críticos.\n",
    "\n",
    "Tu proyecto consistirá en tres etapas:\n",
    " 1. Descripción de los datos.\n",
    " 2. Preprocesamiento de datos.\n",
    " 3. Prueba de hipótesis.\n",
    "\n",
    "\n",
    "\n",
    "\n",
    "\n",
    "\n"
   ]
  },
  {
   "cell_type": "markdown",
   "metadata": {
    "id": "hDt6pg-Rw-1U"
   },
   "source": [
    "[Volver a Contenidos](#back)"
   ]
  },
  {
   "cell_type": "markdown",
   "metadata": {
    "id": "Ml1hmfXC_Zcs"
   },
   "source": [
    "## Etapa 1. Descripción de los datos <a id='data_review'></a>\n"
   ]
  },
  {
   "cell_type": "code",
   "execution_count": 1,
   "metadata": {
    "id": "AXN7PHPN_Zcs"
   },
   "outputs": [],
   "source": [
    "import pandas as pd # Importar pandas\n"
   ]
  },
  {
   "cell_type": "markdown",
   "metadata": {
    "id": "SG23P8tt_Zcs"
   },
   "source": [
    "Lee el archivo `music_project_en.csv` de la carpeta `/datasets/` y guárdalo en la variable `df`:"
   ]
  },
  {
   "cell_type": "code",
   "execution_count": 2,
   "metadata": {
    "id": "fFVu7vqh_Zct"
   },
   "outputs": [],
   "source": [
    "file_path = '/datasets/music_project_en.csv'\n",
    "\n",
    "\n",
    "df = pd.read_csv(file_path)\n"
   ]
  },
  {
   "cell_type": "markdown",
   "metadata": {
    "id": "rDoOMd3uTqnZ"
   },
   "source": [
    "Muestra las 10 primeras filas de la tabla:"
   ]
  },
  {
   "cell_type": "code",
   "execution_count": 3,
   "metadata": {
    "id": "oWTVX3gW_Zct"
   },
   "outputs": [
    {
     "name": "stdout",
     "output_type": "stream",
     "text": [
      "     userID                        Track            artist   genre  \\\n",
      "0  FFB692EC            Kamigata To Boots  The Mass Missile    rock   \n",
      "1  55204538  Delayed Because of Accident  Andreas Rönnberg    rock   \n",
      "2    20EC38            Funiculì funiculà       Mario Lanza     pop   \n",
      "3  A3DD03C9        Dragons in the Sunset        Fire + Ice    folk   \n",
      "4  E2DC1FAE                  Soul People        Space Echo   dance   \n",
      "5  842029A1                       Chains          Obladaet  rusrap   \n",
      "6  4CB90AA5                         True      Roman Messer   dance   \n",
      "7  F03E1C1F             Feeling This Way   Polina Griffith   dance   \n",
      "8  8FA1D3BE                     L’estate       Julia Dalia  ruspop   \n",
      "9  E772D5C0                    Pessimist               NaN   dance   \n",
      "\n",
      "        City        time        Day  \n",
      "0  Shelbyville  20:28:33  Wednesday  \n",
      "1  Springfield  14:07:09     Friday  \n",
      "2  Shelbyville  20:58:07  Wednesday  \n",
      "3  Shelbyville  08:37:09     Monday  \n",
      "4  Springfield  08:34:34     Monday  \n",
      "5  Shelbyville  13:09:41     Friday  \n",
      "6  Springfield  13:00:07  Wednesday  \n",
      "7  Springfield  20:47:49  Wednesday  \n",
      "8  Springfield  09:17:40     Friday  \n",
      "9  Shelbyville  21:20:49  Wednesday  \n"
     ]
    }
   ],
   "source": [
    "print(df.head(10))\n"
   ]
  },
  {
   "cell_type": "markdown",
   "metadata": {
    "id": "EO73Kwic_Zct"
   },
   "source": [
    "Obtén la información general sobre la tabla con un comando. Conoces el método que muestra la información general que necesitamos."
   ]
  },
  {
   "cell_type": "code",
   "execution_count": 4,
   "metadata": {
    "id": "DSf2kIb-_Zct"
   },
   "outputs": [
    {
     "name": "stdout",
     "output_type": "stream",
     "text": [
      "<class 'pandas.core.frame.DataFrame'>\n",
      "RangeIndex: 65079 entries, 0 to 65078\n",
      "Data columns (total 7 columns):\n",
      " #   Column    Non-Null Count  Dtype \n",
      "---  ------    --------------  ----- \n",
      " 0     userID  65079 non-null  object\n",
      " 1   Track     63736 non-null  object\n",
      " 2   artist    57512 non-null  object\n",
      " 3   genre     63881 non-null  object\n",
      " 4     City    65079 non-null  object\n",
      " 5   time      65079 non-null  object\n",
      " 6   Day       65079 non-null  object\n",
      "dtypes: object(7)\n",
      "memory usage: 3.5+ MB\n"
     ]
    }
   ],
   "source": [
    "df.info()# Obtener la información general sobre nuestros datos\n"
   ]
  },
  {
   "cell_type": "markdown",
   "metadata": {
    "id": "TaQ2Iwbr_Zct"
   },
   "source": [
    "Estas son nuestras observaciones sobre la tabla. Contiene siete columnas. Almacenan los mismos tipos de datos: `object`.\n",
    "\n",
    "Según la documentación:\n",
    "- `' userID'`: identificador del usuario o la usuaria;\n",
    "- `'Track'`: título de la canción;\n",
    "- `'artist'`: nombre del artista;\n",
    "- `'genre'`: género de la pista;\n",
    "- `'City'`: ciudad del usuario o la usuaria;\n",
    "- `'time'`: la hora exacta en la que se reprodujo la canción;\n",
    "- `'Day'`: día de la semana.\n",
    "\n",
    "Podemos ver tres problemas con el estilo en los encabezados de la tabla:\n",
    "1. Algunos encabezados están en mayúsculas, otros en minúsculas.\n",
    "2. Hay espacios en algunos encabezados.\n",
    "3. `Detecta el tercer problema por tu cuenta y descríbelo aquí`. \n",
    "\n",
    "#Hay espacios vacíos en algunas columnas, se detecta porque el número de Non-Null Count es diferente en algunas columnas, lo que significa información faltante o no llenada.\n",
    "\n",
    "#En la fila 3 el user_id contiene una menor cantidad de caracteres, puede ser un error\n",
    "\n",
    "\n"
   ]
  },
  {
   "cell_type": "markdown",
   "metadata": {
    "id": "MCB6-dXG_Zct"
   },
   "source": [
    "### Escribe observaciones. Estas son algunas de las preguntas que pueden ser útiles: <a id='data_review_conclusions'></a>\n",
    "\n",
    "`1.   ¿Qué tipo de datos tenemos a nuestra disposición en las filas? ¿Y cómo podemos entender lo que almacenan las columnas?`\n",
    "Los datos son información de música escuchada por usuarios en algun lugar del mundo, su ubicación, tiempo e información general de la canción. \n",
    "\n",
    "`2.   ¿Hay suficientes datos para proporcionar respuestas a nuestra hipótesis o necesitamos más información?`\n",
    "\n",
    "Es una muestra pequeña y se puede extrapolar pero con los datos enteros (las más de 60000 entradas) si se podría realizar una hipótesis \n",
    "\n",
    "`3.   ¿Notaste algún problema en los datos, como valores ausentes, duplicados o tipos de datos incorrectos?`\n",
    "\n",
    "Si, existen algunos datos como valores ausentes NaN"
   ]
  },
  {
   "cell_type": "markdown",
   "metadata": {
    "id": "3eL__vcwViOi"
   },
   "source": [
    "[Volver a Contenidos](#back)"
   ]
  },
  {
   "cell_type": "markdown",
   "metadata": {
    "id": "SjYF6Ub9_Zct"
   },
   "source": [
    "## Etapa 2. Preprocesamiento de datos <a id='data_preprocessing'></a>\n",
    "\n",
    "El objetivo aquí es preparar los datos para que sean analizados.\n",
    "El primer paso es resolver cualquier problema con los encabezados. Luego podemos avanzar a los valores ausentes y duplicados. Empecemos.\n",
    "\n",
    "Corregí el formato en los encabezados de la tabla.\n"
   ]
  },
  {
   "cell_type": "markdown",
   "metadata": {
    "id": "dIaKXr29_Zct"
   },
   "source": [
    "### Estilo del encabezado <a id='header_style'></a>\n",
    "Muestra los encabezados de la tabla (los nombres de las columnas):"
   ]
  },
  {
   "cell_type": "code",
   "execution_count": 5,
   "metadata": {
    "id": "oKOTdF_Q_Zct"
   },
   "outputs": [
    {
     "name": "stdout",
     "output_type": "stream",
     "text": [
      "Index(['  userID', 'Track', 'artist', 'genre', '  City  ', 'time', 'Day'], dtype='object')\n"
     ]
    }
   ],
   "source": [
    "print(df.columns)# Muestra los nombres de las columnas\n"
   ]
  },
  {
   "cell_type": "markdown",
   "metadata": {
    "id": "zj5534cv_Zct"
   },
   "source": [
    "Cambié los encabezados de la tabla de acuerdo con las reglas del buen estilo:\n",
    "* Todos los caracteres deben ser minúsculas.\n",
    "* Elimina los espacios.\n",
    "* Si el nombre tiene varias palabras, utiliza snake_case."
   ]
  },
  {
   "cell_type": "markdown",
   "metadata": {
    "id": "Xu0zkfe5zNJe"
   },
   "source": [
    "Anteriormente, aprendí acerca de la forma automática de cambiar el nombre de las columnas. Utilicé el bucle for para iterar sobre los nombres de las columnas y poner todos los caracteres en minúsculas. Cuando hayas terminado, vuelve a mostrar los encabezados de la tabla:"
   ]
  },
  {
   "cell_type": "code",
   "execution_count": 6,
   "metadata": {
    "id": "6I_RwwMhzM4e"
   },
   "outputs": [
    {
     "name": "stdout",
     "output_type": "stream",
     "text": [
      "['  userid', 'track', 'artist', 'genre', '  city  ', 'time', 'day']\n"
     ]
    }
   ],
   "source": [
    "new_columns = []\n",
    "\n",
    "for col in df.columns:\n",
    "    new_col = col.lower()\n",
    "    new_columns.append(new_col)\n",
    "\n",
    "df.columns = new_columns\n",
    "\n",
    "print(df.columns.tolist())\n"
   ]
  },
  {
   "cell_type": "markdown",
   "metadata": {
    "id": "pweIRxjSzPYW"
   },
   "source": [
    "Ahora, utilizando el mismo método, elimina los espacios al principio y al final de los nombres de las columnas e imprime los nombres de las columnas nuevamente:"
   ]
  },
  {
   "cell_type": "code",
   "execution_count": 7,
   "metadata": {
    "id": "vVQXbFyJzSYl"
   },
   "outputs": [
    {
     "name": "stdout",
     "output_type": "stream",
     "text": [
      "['userid', 'track', 'artist', 'genre', 'city', 'time', 'day']\n"
     ]
    }
   ],
   "source": [
    "new_columns = []\n",
    "\n",
    "for col in df.columns:\n",
    "    new_col = col.strip().lower()\n",
    "    new_columns.append(new_col)\n",
    "\n",
    "df.columns = new_columns\n",
    "\n",
    "print(df.columns.tolist())"
   ]
  },
  {
   "cell_type": "markdown",
   "metadata": {
    "id": "yCb8MW1JzURd"
   },
   "source": [
    "Necesitamos aplicar la regla de snake_case a la columna `userid`. Debe ser `user_id`. Cambia el nombre de esta columna y muestra los nombres de todas las columnas cuando hayas terminado."
   ]
  },
  {
   "cell_type": "code",
   "execution_count": 8,
   "metadata": {
    "id": "ISlFqs5y_Zct"
   },
   "outputs": [
    {
     "name": "stdout",
     "output_type": "stream",
     "text": [
      "['user_id', 'track', 'artist', 'genre', 'city', 'time', 'day']\n"
     ]
    }
   ],
   "source": [
    "new_columns = []\n",
    "\n",
    "for col in df.columns:\n",
    "    if col == 'userid':\n",
    "        new_columns.append('user_id')\n",
    "    else:\n",
    "        new_columns.append(col)\n",
    "\n",
    "df.columns = new_columns\n",
    "\n",
    "print(df.columns.tolist())\n"
   ]
  },
  {
   "cell_type": "markdown",
   "metadata": {
    "id": "1dqbh00J_Zct"
   },
   "source": [
    "Comprueba el resultado. Muestra los encabezados una vez más:"
   ]
  },
  {
   "cell_type": "code",
   "execution_count": 9,
   "metadata": {
    "id": "d4NOAmTW_Zct"
   },
   "outputs": [
    {
     "name": "stdout",
     "output_type": "stream",
     "text": [
      "['user_id', 'track', 'artist', 'genre', 'city', 'time', 'day']\n"
     ]
    }
   ],
   "source": [
    "print(df.columns.tolist()) # Comprobar el resultado: la lista de encabezados\n"
   ]
  },
  {
   "cell_type": "markdown",
   "metadata": {
    "id": "xYJk6ksJVpOl"
   },
   "source": [
    "[Volver a Contenidos](#back)"
   ]
  },
  {
   "cell_type": "markdown",
   "metadata": {
    "id": "5ISfbcfY_Zct"
   },
   "source": [
    "### Valores ausentes <a id='missing_values'></a>\n",
    " Primero, encuentra el número de valores ausentes en la tabla. Debes utilizar dos métodos en una secuencia para obtener el número de valores ausentes."
   ]
  },
  {
   "cell_type": "code",
   "execution_count": 10,
   "metadata": {
    "id": "RskX29qr_Zct"
   },
   "outputs": [
    {
     "name": "stdout",
     "output_type": "stream",
     "text": [
      "Número de valores nulos por columna:\n",
      "user_id       0\n",
      "track      1343\n",
      "artist     7567\n",
      "genre      1198\n",
      "city          0\n",
      "time          0\n",
      "day           0\n",
      "dtype: int64\n",
      "Total de valores nulos en el DataFrame: 10108\n"
     ]
    }
   ],
   "source": [
    "valores_nulos = df.isnull().sum()\n",
    "\n",
    "print(\"Número de valores nulos por columna:\")\n",
    "print(valores_nulos)\n",
    "\n",
    "total_nulos = valores_nulos.sum()\n",
    "print(\"Total de valores nulos en el DataFrame:\", total_nulos)\n"
   ]
  },
  {
   "cell_type": "markdown",
   "metadata": {
    "id": "qubhgnlO_Zct"
   },
   "source": [
    "No todos los valores ausentes afectan a la investigación. Por ejemplo, los valores ausentes en `track` y `artist` no son cruciales. Simplemente puedes reemplazarlos con valores predeterminados como el string `'unknown'` (desconocido).\n",
    "\n",
    "Pero los valores ausentes en `'genre'` pueden afectar la comparación entre las preferencias musicales de Springfield y Shelbyville. En la vida real, sería útil saber las razones por las cuales hay datos ausentes e intentar recuperarlos. Pero no tenemos esa oportunidad en este proyecto. Así que tendrás que:\n",
    "* rellenar estos valores ausentes con un valor predeterminado;\n",
    "* evaluar cuánto podrían afectar los valores ausentes a tus cómputos;"
   ]
  },
  {
   "cell_type": "markdown",
   "metadata": {
    "id": "fSv2laPA_Zct"
   },
   "source": [
    "Reemplazar los valores ausentes en las columnas `'track'`, `'artist'` y `'genre'` con el string `'unknown'`. Como mostramos anteriormente en las lecciones, la mejor forma de hacerlo es crear una lista que almacene los nombres de las columnas donde se necesita el reemplazo. Luego, utiliza esta lista e itera sobre las columnas donde se necesita el reemplazo haciendo el propio reemplazo."
   ]
  },
  {
   "cell_type": "code",
   "execution_count": 11,
   "metadata": {
    "id": "KplB5qWs_Zct"
   },
   "outputs": [
    {
     "name": "stdout",
     "output_type": "stream",
     "text": [
      "    user_id                        track            artist   genre  \\\n",
      "0  FFB692EC            Kamigata To Boots  The Mass Missile    rock   \n",
      "1  55204538  Delayed Because of Accident  Andreas Rönnberg    rock   \n",
      "2    20EC38            Funiculì funiculà       Mario Lanza     pop   \n",
      "3  A3DD03C9        Dragons in the Sunset        Fire + Ice    folk   \n",
      "4  E2DC1FAE                  Soul People        Space Echo   dance   \n",
      "5  842029A1                       Chains          Obladaet  rusrap   \n",
      "6  4CB90AA5                         True      Roman Messer   dance   \n",
      "7  F03E1C1F             Feeling This Way   Polina Griffith   dance   \n",
      "8  8FA1D3BE                     L’estate       Julia Dalia  ruspop   \n",
      "9  E772D5C0                    Pessimist           unknown   dance   \n",
      "\n",
      "          city      time        day  \n",
      "0  Shelbyville  20:28:33  Wednesday  \n",
      "1  Springfield  14:07:09     Friday  \n",
      "2  Shelbyville  20:58:07  Wednesday  \n",
      "3  Shelbyville  08:37:09     Monday  \n",
      "4  Springfield  08:34:34     Monday  \n",
      "5  Shelbyville  13:09:41     Friday  \n",
      "6  Springfield  13:00:07  Wednesday  \n",
      "7  Springfield  20:47:49  Wednesday  \n",
      "8  Springfield  09:17:40     Friday  \n",
      "9  Shelbyville  21:20:49  Wednesday  \n"
     ]
    }
   ],
   "source": [
    "columnas_a_modificar = ['track', 'artist', 'genre']\n",
    "\n",
    "for columna in columnas_a_modificar:\n",
    "    df[columna] = df[columna].fillna('unknown')\n",
    "\n",
    "print(df.head(10))\n"
   ]
  },
  {
   "cell_type": "markdown",
   "metadata": {
    "id": "Ilsm-MZo_Zct"
   },
   "source": [
    "Ahora comprueba el resultado para asegurarte de que después del reemplazo no haya valores ausentes en el conjunto de datos. Para hacer esto, cuenta los valores ausentes nuevamente."
   ]
  },
  {
   "cell_type": "code",
   "execution_count": 12,
   "metadata": {
    "id": "Tq4nYRX4_Zct"
   },
   "outputs": [
    {
     "name": "stdout",
     "output_type": "stream",
     "text": [
      "Número de valores nulos por columna:\n",
      "user_id    0\n",
      "track      0\n",
      "artist     0\n",
      "genre      0\n",
      "city       0\n",
      "time       0\n",
      "day        0\n",
      "dtype: int64\n",
      "Total de valores nulos en el DataFrame: 0\n"
     ]
    }
   ],
   "source": [
    "# Contar valores ausentes\n",
    "valores_nulos = df.isnull().sum()\n",
    "\n",
    "print(\"Número de valores nulos por columna:\")\n",
    "print(valores_nulos)\n",
    "\n",
    "total_nulos = valores_nulos.sum()\n",
    "print(\"Total de valores nulos en el DataFrame:\", total_nulos)"
   ]
  },
  {
   "cell_type": "markdown",
   "metadata": {
    "id": "74ZIBmq9VrsK"
   },
   "source": [
    "[Volver a Contenidos](#back)"
   ]
  },
  {
   "cell_type": "markdown",
   "metadata": {
    "id": "BWKRtBJ3_Zct"
   },
   "source": [
    "### Duplicados <a id='duplicates'></a>\n",
    "Encuentra el número de duplicados explícitos en la tabla. Una vez más, debes aplicar dos métodos en una secuencia para obtener la cantidad de duplicados explícitos."
   ]
  },
  {
   "cell_type": "code",
   "execution_count": 13,
   "metadata": {
    "id": "36eES_S0_Zct"
   },
   "outputs": [
    {
     "name": "stdout",
     "output_type": "stream",
     "text": [
      "Número de filas duplicadas: 3826\n"
     ]
    }
   ],
   "source": [
    "# Contar duplicados explícitos\n",
    "duplicados = df.duplicated()\n",
    "\n",
    "# Contar el número de filas duplicadas\n",
    "num_duplicados = duplicados.sum()\n",
    "print(\"Número de filas duplicadas:\", num_duplicados)\n"
   ]
  },
  {
   "cell_type": "markdown",
   "metadata": {
    "id": "Ot25h6XR_Zct"
   },
   "source": [
    "Ahora, elimina todos los duplicados. Para ello, llama al método que hace exactamente esto."
   ]
  },
  {
   "cell_type": "code",
   "execution_count": 14,
   "metadata": {
    "id": "exFHq6tt_Zct"
   },
   "outputs": [
    {
     "name": "stdout",
     "output_type": "stream",
     "text": [
      "    user_id                        track            artist   genre  \\\n",
      "0  FFB692EC            Kamigata To Boots  The Mass Missile    rock   \n",
      "1  55204538  Delayed Because of Accident  Andreas Rönnberg    rock   \n",
      "2    20EC38            Funiculì funiculà       Mario Lanza     pop   \n",
      "3  A3DD03C9        Dragons in the Sunset        Fire + Ice    folk   \n",
      "4  E2DC1FAE                  Soul People        Space Echo   dance   \n",
      "5  842029A1                       Chains          Obladaet  rusrap   \n",
      "6  4CB90AA5                         True      Roman Messer   dance   \n",
      "7  F03E1C1F             Feeling This Way   Polina Griffith   dance   \n",
      "8  8FA1D3BE                     L’estate       Julia Dalia  ruspop   \n",
      "9  E772D5C0                    Pessimist           unknown   dance   \n",
      "\n",
      "          city      time        day  \n",
      "0  Shelbyville  20:28:33  Wednesday  \n",
      "1  Springfield  14:07:09     Friday  \n",
      "2  Shelbyville  20:58:07  Wednesday  \n",
      "3  Shelbyville  08:37:09     Monday  \n",
      "4  Springfield  08:34:34     Monday  \n",
      "5  Shelbyville  13:09:41     Friday  \n",
      "6  Springfield  13:00:07  Wednesday  \n",
      "7  Springfield  20:47:49  Wednesday  \n",
      "8  Springfield  09:17:40     Friday  \n",
      "9  Shelbyville  21:20:49  Wednesday  \n"
     ]
    }
   ],
   "source": [
    "# Eliminar duplicados explícitos\n",
    "df = df.drop_duplicates()\n",
    "\n",
    "print(df.head(10))\n"
   ]
  },
  {
   "cell_type": "markdown",
   "metadata": {
    "id": "Im2YwBEG_Zct"
   },
   "source": [
    "Comprobemos ahora si eliminamos con éxito todos los duplicados. Cuenta los duplicados explícitos una vez más para asegurarte de haberlos eliminado todos:"
   ]
  },
  {
   "cell_type": "code",
   "execution_count": 15,
   "metadata": {
    "id": "-8PuNWQ0_Zct"
   },
   "outputs": [
    {
     "name": "stdout",
     "output_type": "stream",
     "text": [
      "Número de filas duplicadas: 0\n"
     ]
    }
   ],
   "source": [
    "# Comprobar de nuevo si hay duplicados\n",
    "duplicados = df.duplicated()\n",
    "\n",
    "num_duplicados = duplicados.sum()\n",
    "print(\"Número de filas duplicadas:\", num_duplicados)\n",
    "\n"
   ]
  },
  {
   "cell_type": "markdown",
   "metadata": {
    "id": "QlFBsxAr_Zct"
   },
   "source": [
    "Ahora queremos deshacernos de los duplicados implícitos en la columna `genre`. Por ejemplo, el nombre de un género se puede escribir de varias formas. Dichos errores también pueden afectar al resultado."
   ]
  },
  {
   "cell_type": "markdown",
   "metadata": {
    "id": "eSjWwsOh_Zct"
   },
   "source": [
    "Para hacerlo, primero mostremos una lista de nombres de género únicos, ordenados en orden alfabético. Para ello:\n",
    "* Extrae la columna `genre` del DataFrame.\n",
    "* Llama al método que devolverá todos los valores únicos en la columna extraída.\n"
   ]
  },
  {
   "cell_type": "code",
   "execution_count": 16,
   "metadata": {
    "id": "JIUcqzZN_Zct"
   },
   "outputs": [
    {
     "name": "stdout",
     "output_type": "stream",
     "text": [
      "['acid', 'acoustic', 'action', 'adult', 'africa', 'afrikaans', 'alternative', 'ambient', 'americana', 'animated', 'anime', 'arabesk', 'arabic', 'arena', 'argentinetango', 'art', 'audiobook', 'avantgarde', 'axé', 'baile', 'balkan', 'beats', 'bigroom', 'black', 'bluegrass', 'blues', 'bollywood', 'bossa', 'brazilian', 'breakbeat', 'breaks', 'broadway', 'cantautori', 'cantopop', 'canzone', 'caribbean', 'caucasian', 'celtic', 'chamber', 'children', 'chill', 'chinese', 'choral', 'christian', 'christmas', 'classical', 'classicmetal', 'club', 'colombian', 'comedy', 'conjazz', 'contemporary', 'country', 'cuban', 'dance', 'dancehall', 'dancepop', 'dark', 'death', 'deep', 'deutschrock', 'deutschspr', 'dirty', 'disco', 'dnb', 'documentary', 'downbeat', 'downtempo', 'drum', 'dub', 'dubstep', 'eastern', 'easy', 'electronic', 'electropop', 'emo', 'entehno', 'epicmetal', 'estrada', 'ethnic', 'eurofolk', 'european', 'experimental', 'extrememetal', 'fado', 'film', 'fitness', 'flamenco', 'folk', 'folklore', 'folkmetal', 'folkrock', 'folktronica', 'forró', 'frankreich', 'französisch', 'french', 'funk', 'future', 'gangsta', 'garage', 'german', 'ghazal', 'gitarre', 'glitch', 'gospel', 'gothic', 'grime', 'grunge', 'gypsy', 'handsup', \"hard'n'heavy\", 'hardcore', 'hardstyle', 'hardtechno', 'hip', 'hip-hop', 'hiphop', 'historisch', 'holiday', 'hop', 'horror', 'house', 'idm', 'independent', 'indian', 'indie', 'indipop', 'industrial', 'inspirational', 'instrumental', 'international', 'irish', 'jam', 'japanese', 'jazz', 'jewish', 'jpop', 'jungle', 'k-pop', 'karadeniz', 'karaoke', 'kayokyoku', 'korean', 'laiko', 'latin', 'latino', 'leftfield', 'local', 'lounge', 'loungeelectronic', 'lovers', 'malaysian', 'mandopop', 'marschmusik', 'meditative', 'mediterranean', 'melodic', 'metal', 'metalcore', 'mexican', 'middle', 'minimal', 'miscellaneous', 'modern', 'mood', 'mpb', 'muslim', 'native', 'neoklassik', 'neue', 'new', 'newage', 'newwave', 'nu', 'nujazz', 'numetal', 'oceania', 'old', 'opera', 'orchestral', 'other', 'piano', 'pop', 'popelectronic', 'popeurodance', 'post', 'posthardcore', 'postrock', 'power', 'progmetal', 'progressive', 'psychedelic', 'punjabi', 'punk', 'quebecois', 'ragga', 'ram', 'rancheras', 'rap', 'rave', 'reggae', 'reggaeton', 'regional', 'relax', 'religious', 'retro', 'rhythm', 'rnb', 'rnr', 'rock', 'rockabilly', 'romance', 'roots', 'ruspop', 'rusrap', 'rusrock', 'salsa', 'samba', 'schlager', 'self', 'sertanejo', 'shoegazing', 'showtunes', 'singer', 'ska', 'slow', 'smooth', 'soul', 'soulful', 'sound', 'soundtrack', 'southern', 'specialty', 'speech', 'spiritual', 'sport', 'stonerrock', 'surf', 'swing', 'synthpop', 'sängerportrait', 'tango', 'tanzorchester', 'taraftar', 'tech', 'techno', 'thrash', 'top', 'traditional', 'tradjazz', 'trance', 'tribal', 'trip', 'triphop', 'tropical', 'türk', 'türkçe', 'unknown', 'urban', 'uzbek', 'variété', 'vi', 'videogame', 'vocal', 'western', 'world', 'worldbeat', 'ïîï']\n"
     ]
    }
   ],
   "source": [
    "# Inspeccionar los nombres de géneros únicos\n",
    "columna_genre = df['genre']\n",
    "\n",
    "generos = df['genre']\n",
    "\n",
    "generos_unicos_ordenados = sorted(generos.unique())\n",
    "\n",
    "print(generos_unicos_ordenados)\n"
   ]
  },
  {
   "cell_type": "markdown",
   "metadata": {
    "id": "qej-Qmuo_Zct"
   },
   "source": [
    "Busca en la lista para encontrar duplicados implícitos del género `hiphop`. Estos pueden ser nombres escritos incorrectamente o nombres alternativos para el mismo género.\n",
    "\n",
    "Verás los siguientes duplicados implícitos:\n",
    "* `hip`\n",
    "* `hop`\n",
    "* `hip-hop`\n",
    "\n",
    "Para deshacerte de ellos, crea una función llamada `replace_wrong_genres()` con dos parámetros:\n",
    "* `wrong_genres=`: esta es una lista que contiene todos los valores que necesitas reemplazar.\n",
    "* `correct_genre=`: este es un string que vas a utilizar como reemplazo.\n",
    "\n",
    "Como resultado, la función debería corregir los nombres en la columna `'genre'` de la tabla `df`, es decir, remplazar cada valor de la lista `wrong_genres` por el valor en `correct_genre`.\n",
    "\n",
    "Dentro del cuerpo de la función, utiliza un bucle `'for'` para iterar sobre la lista de géneros incorrectos, extrae la columna `'genre'` y aplica el método `replace` para hacer correcciones."
   ]
  },
  {
   "cell_type": "code",
   "execution_count": 17,
   "metadata": {
    "id": "ErNDkmns_Zct"
   },
   "outputs": [],
   "source": [
    "def replace_wrong_genres(wrong_genres, correct_genre):\n",
    "\n",
    "  # Iterar sobre cada género incorrecto\n",
    "  for wrong_genre in wrong_genres:\n",
    "    # Reemplazar el género incorrecto por el correcto en la columna 'genre'\n",
    "    df['genre'] = df['genre'].replace(wrong_genre, correct_genre)\n",
    "    "
   ]
  },
  {
   "cell_type": "markdown",
   "metadata": {
    "id": "aDoBJxbA_Zct"
   },
   "source": [
    "Ahora, llama a `replace_wrong_genres()` y pásale tales argumentos para que retire los duplicados implícitos (`hip`, `hop` y `hip-hop`) y los reemplace por `hiphop`:"
   ]
  },
  {
   "cell_type": "code",
   "execution_count": 18,
   "metadata": {
    "id": "YN5i2hpmSo09"
   },
   "outputs": [
    {
     "name": "stdout",
     "output_type": "stream",
     "text": [
      "    user_id                        track            artist   genre  \\\n",
      "0  FFB692EC            Kamigata To Boots  The Mass Missile    rock   \n",
      "1  55204538  Delayed Because of Accident  Andreas Rönnberg    rock   \n",
      "2    20EC38            Funiculì funiculà       Mario Lanza     pop   \n",
      "3  A3DD03C9        Dragons in the Sunset        Fire + Ice    folk   \n",
      "4  E2DC1FAE                  Soul People        Space Echo   dance   \n",
      "5  842029A1                       Chains          Obladaet  rusrap   \n",
      "6  4CB90AA5                         True      Roman Messer   dance   \n",
      "7  F03E1C1F             Feeling This Way   Polina Griffith   dance   \n",
      "8  8FA1D3BE                     L’estate       Julia Dalia  ruspop   \n",
      "9  E772D5C0                    Pessimist           unknown   dance   \n",
      "\n",
      "          city      time        day  \n",
      "0  Shelbyville  20:28:33  Wednesday  \n",
      "1  Springfield  14:07:09     Friday  \n",
      "2  Shelbyville  20:58:07  Wednesday  \n",
      "3  Shelbyville  08:37:09     Monday  \n",
      "4  Springfield  08:34:34     Monday  \n",
      "5  Shelbyville  13:09:41     Friday  \n",
      "6  Springfield  13:00:07  Wednesday  \n",
      "7  Springfield  20:47:49  Wednesday  \n",
      "8  Springfield  09:17:40     Friday  \n",
      "9  Shelbyville  21:20:49  Wednesday  \n"
     ]
    }
   ],
   "source": [
    "# Lista de géneros incorrectos a reemplazar\n",
    "wrong_genres = ['hip', 'hop', 'hip-hop']\n",
    "correct_genre = 'hiphop'\n",
    "\n",
    "replace_wrong_genres(wrong_genres, correct_genre)\n",
    "\n",
    "print(df.head(10))\n"
   ]
  },
  {
   "cell_type": "markdown",
   "metadata": {
    "id": "zQKF16_RG15m"
   },
   "source": [
    "Asegúrate de que los nombres duplicados han sido eliminados. Muestra la lista de valores únicos de la columna `'genre'` una vez más:"
   ]
  },
  {
   "cell_type": "code",
   "execution_count": 19,
   "metadata": {
    "id": "wvixALnFG15m"
   },
   "outputs": [
    {
     "name": "stdout",
     "output_type": "stream",
     "text": [
      "Valores únicos en la columna 'genre':\n",
      "['acid', 'acoustic', 'action', 'adult', 'africa', 'afrikaans', 'alternative', 'ambient', 'americana', 'animated', 'anime', 'arabesk', 'arabic', 'arena', 'argentinetango', 'art', 'audiobook', 'avantgarde', 'axé', 'baile', 'balkan', 'beats', 'bigroom', 'black', 'bluegrass', 'blues', 'bollywood', 'bossa', 'brazilian', 'breakbeat', 'breaks', 'broadway', 'cantautori', 'cantopop', 'canzone', 'caribbean', 'caucasian', 'celtic', 'chamber', 'children', 'chill', 'chinese', 'choral', 'christian', 'christmas', 'classical', 'classicmetal', 'club', 'colombian', 'comedy', 'conjazz', 'contemporary', 'country', 'cuban', 'dance', 'dancehall', 'dancepop', 'dark', 'death', 'deep', 'deutschrock', 'deutschspr', 'dirty', 'disco', 'dnb', 'documentary', 'downbeat', 'downtempo', 'drum', 'dub', 'dubstep', 'eastern', 'easy', 'electronic', 'electropop', 'emo', 'entehno', 'epicmetal', 'estrada', 'ethnic', 'eurofolk', 'european', 'experimental', 'extrememetal', 'fado', 'film', 'fitness', 'flamenco', 'folk', 'folklore', 'folkmetal', 'folkrock', 'folktronica', 'forró', 'frankreich', 'französisch', 'french', 'funk', 'future', 'gangsta', 'garage', 'german', 'ghazal', 'gitarre', 'glitch', 'gospel', 'gothic', 'grime', 'grunge', 'gypsy', 'handsup', \"hard'n'heavy\", 'hardcore', 'hardstyle', 'hardtechno', 'hiphop', 'historisch', 'holiday', 'horror', 'house', 'idm', 'independent', 'indian', 'indie', 'indipop', 'industrial', 'inspirational', 'instrumental', 'international', 'irish', 'jam', 'japanese', 'jazz', 'jewish', 'jpop', 'jungle', 'k-pop', 'karadeniz', 'karaoke', 'kayokyoku', 'korean', 'laiko', 'latin', 'latino', 'leftfield', 'local', 'lounge', 'loungeelectronic', 'lovers', 'malaysian', 'mandopop', 'marschmusik', 'meditative', 'mediterranean', 'melodic', 'metal', 'metalcore', 'mexican', 'middle', 'minimal', 'miscellaneous', 'modern', 'mood', 'mpb', 'muslim', 'native', 'neoklassik', 'neue', 'new', 'newage', 'newwave', 'nu', 'nujazz', 'numetal', 'oceania', 'old', 'opera', 'orchestral', 'other', 'piano', 'pop', 'popelectronic', 'popeurodance', 'post', 'posthardcore', 'postrock', 'power', 'progmetal', 'progressive', 'psychedelic', 'punjabi', 'punk', 'quebecois', 'ragga', 'ram', 'rancheras', 'rap', 'rave', 'reggae', 'reggaeton', 'regional', 'relax', 'religious', 'retro', 'rhythm', 'rnb', 'rnr', 'rock', 'rockabilly', 'romance', 'roots', 'ruspop', 'rusrap', 'rusrock', 'salsa', 'samba', 'schlager', 'self', 'sertanejo', 'shoegazing', 'showtunes', 'singer', 'ska', 'slow', 'smooth', 'soul', 'soulful', 'sound', 'soundtrack', 'southern', 'specialty', 'speech', 'spiritual', 'sport', 'stonerrock', 'surf', 'swing', 'synthpop', 'sängerportrait', 'tango', 'tanzorchester', 'taraftar', 'tech', 'techno', 'thrash', 'top', 'traditional', 'tradjazz', 'trance', 'tribal', 'trip', 'triphop', 'tropical', 'türk', 'türkçe', 'unknown', 'urban', 'uzbek', 'variété', 'vi', 'videogame', 'vocal', 'western', 'world', 'worldbeat', 'ïîï']\n"
     ]
    }
   ],
   "source": [
    "# Comprobación de duplicados implícitos\n",
    "columna_genre = df['genre']\n",
    "\n",
    "generos = df['genre']\n",
    "\n",
    "generos_unicos_ordenados = sorted(generos.unique())\n",
    "print(\"Valores únicos en la columna 'genre':\")\n",
    "print(generos_unicos_ordenados)"
   ]
  },
  {
   "cell_type": "markdown",
   "metadata": {
    "id": "ALgNbvF3VtPA"
   },
   "source": [
    "[Volver a Contenidos](#back)"
   ]
  },
  {
   "cell_type": "markdown",
   "metadata": {
    "id": "jz6a9-7HQUDd"
   },
   "source": [
    "### Observaciones <a id='data_preprocessing_conclusions'></a>"
   ]
  },
  {
   "cell_type": "markdown",
   "metadata": {
    "id": "eK1es74rVujj"
   },
   "source": [
    "[Volver a Contenidos](#back)"
   ]
  },
  {
   "cell_type": "markdown",
   "metadata": {
    "id": "WttZHXH0SqKk"
   },
   "source": [
    "## Etapa 3. Prueba de hipótesis <a id='hypothesis'></a>"
   ]
  },
  {
   "cell_type": "markdown",
   "metadata": {
    "id": "Im936VVi_Zcu"
   },
   "source": [
    "### Hipótesis: comparar el comportamiento del usuario o la usuaria en las dos ciudades <a id='activity'></a>"
   ]
  },
  {
   "cell_type": "markdown",
   "metadata": {
    "id": "nwt_MuaL_Zcu"
   },
   "source": [
    "La hipótesis afirma que existen diferencias en la forma en que los usuarios y las usuarias de Springfield y Shelbyville consumen música. Para comprobar esto, usa los datos de tres días de la semana: lunes, miércoles y viernes.\n",
    "\n",
    "* Agrupa a los usuarios y las usuarias por ciudad.\n",
    "* Compara el número de canciones que cada grupo reprodujo el lunes, el miércoles y el viernes.\n"
   ]
  },
  {
   "cell_type": "markdown",
   "metadata": {
    "id": "8Dw_YMmT_Zcu"
   },
   "source": [
    "Realiza cada cálculo por separado.\n",
    "\n",
    "El primer paso es evaluar la actividad del usuario en cada ciudad. Recuerda las etapas dividir-aplicar-combinar de las que hablamos anteriormente en la lección. Tu objetivo ahora es agrupar los datos por ciudad, aplicar el método apropiado para contar durante la etapa de aplicación y luego encontrar la cantidad de canciones reproducidas en cada grupo especificando la columna para obtener el recuento.\n",
    "\n",
    "A continuación se muestra un ejemplo de cómo debería verse el resultado final:\n",
    "`df.groupby(by='....')['column'].method()`Realiza cada cálculo por separado.\n",
    "\n",
    "Para evaluar la actividad de los usuarios y las usuarias en cada ciudad, agrupa los datos por ciudad y encuentra la cantidad de canciones reproducidas en cada grupo.\n",
    "\n"
   ]
  },
  {
   "cell_type": "code",
   "execution_count": 20,
   "metadata": {
    "id": "0_Qs96oh_Zcu"
   },
   "outputs": [
    {
     "name": "stdout",
     "output_type": "stream",
     "text": [
      "city\n",
      "Shelbyville    18512\n",
      "Springfield    42741\n",
      "Name: track, dtype: int64\n"
     ]
    }
   ],
   "source": [
    "# Contar las canciones reproducidas en cada ciudad\n",
    "conteo_canciones_por_ciudad = df.groupby('city')['track'].count()\n",
    "\n",
    "print(conteo_canciones_por_ciudad)\n"
   ]
  },
  {
   "cell_type": "markdown",
   "metadata": {
    "id": "t_Qx-3NewAnK"
   },
   "source": [
    "`Comenta tus observaciones aquí`\n",
    "#Podemos observar que springfield escucha mas canciones en comparacion con shelbyville"
   ]
  },
  {
   "cell_type": "markdown",
   "metadata": {
    "id": "dzli3w8o_Zcu"
   },
   "source": [
    "Ahora agrupemos los datos por día de la semana y encontremos el número de canciones reproducidas el lunes, miércoles y viernes. Utiliza el mismo método que antes, pero ahora necesitamos una agrupación diferente.\n"
   ]
  },
  {
   "cell_type": "code",
   "execution_count": 21,
   "metadata": {
    "id": "uZMKjiJz_Zcu"
   },
   "outputs": [
    {
     "name": "stdout",
     "output_type": "stream",
     "text": [
      "day\n",
      "Monday       21354\n",
      "Wednesday    18059\n",
      "Friday       21840\n",
      "Name: track, dtype: int64\n"
     ]
    }
   ],
   "source": [
    "# Calcular las canciones reproducidas en cada uno de los tres días\n",
    "conteo_canciones_por_dia = df.groupby('day')['track'].count()\n",
    "\n",
    "dias_especificos = ['Monday', 'Wednesday', 'Friday']\n",
    "conteo_dias_especificos = conteo_canciones_por_dia.loc[dias_especificos]\n",
    "\n",
    "print(conteo_dias_especificos)"
   ]
  },
  {
   "cell_type": "markdown",
   "metadata": {
    "id": "cC2tNrlL_Zcu"
   },
   "source": [
    "`Comenta tus observaciones aquí`\n",
    "#lunes y viernes tienen una cantidad más grande de reproducciones de musica en comparacion del miercoles, sin embargo, el viernes tiene aún más reproducciones que lunes y miercoles"
   ]
  },
  {
   "cell_type": "markdown",
   "metadata": {
    "id": "POzs8bGa_Zcu"
   },
   "source": [
    "Ya sabes cómo contar entradas agrupándolas por ciudad o día. Ahora necesitas escribir una función que pueda contar entradas según ambos criterios simultáneamente.\n",
    "\n",
    "Crea la función `number_tracks()` para calcular el número de canciones reproducidas en un determinado día **y** ciudad. La función debe aceptar dos parámetros:\n",
    "\n",
    "- `day`: un día de la semana para filtrar. Por ejemplo, `'Monday'` (lunes).\n",
    "- `city`: una ciudad para filtrar. Por ejemplo, `'Springfield'`.\n",
    "\n",
    "Dentro de la función, aplicarás un filtrado consecutivo con indexación lógica.\n",
    "\n",
    "Primero filtra los datos por día y luego filtra la tabla resultante por ciudad.\n",
    "\n",
    "Después de filtrar los datos por dos criterios, cuenta el número de valores de la columna 'user_id' en la tabla resultante. Este recuento representa el número de entradas que estás buscando. Guarda el resultado en una nueva variable y devuélvelo desde la función."
   ]
  },
  {
   "cell_type": "code",
   "execution_count": 22,
   "metadata": {
    "id": "Nz3GdQB1_Zcu"
   },
   "outputs": [
    {
     "name": "stdout",
     "output_type": "stream",
     "text": [
      "Número de canciones reproducidas el lunes en Springfield: 15740\n"
     ]
    }
   ],
   "source": [
    "def number_tracks(day, city):\n",
    "\n",
    "\n",
    "  filtered_df = df[(df['day'] == day) & (df['city'] == city)]\n",
    "\n",
    "\n",
    "  num_tracks = filtered_df['user_id'].count()\n",
    "\n",
    "  return num_tracks\n",
    "\n",
    "num_tracks_monday_springfield = number_tracks('Monday', 'Springfield')\n",
    "print(f\"Número de canciones reproducidas el lunes en Springfield: {num_tracks_monday_springfield}\")\n"
   ]
  },
  {
   "cell_type": "code",
   "execution_count": 23,
   "metadata": {
    "id": "rJcRATNQ_Zcu"
   },
   "outputs": [
    {
     "name": "stdout",
     "output_type": "stream",
     "text": [
      "Número de canciones reproducidas el lunes en Springfield: 15740\n"
     ]
    }
   ],
   "source": [
    "num_tracks_monday_springfield = number_tracks('Monday', 'Springfield')\n",
    "\n",
    "print(f\"Número de canciones reproducidas el lunes en Springfield: {num_tracks_monday_springfield}\")\n"
   ]
  },
  {
   "cell_type": "markdown",
   "metadata": {
    "id": "ytf7xFrFJQ2r"
   },
   "source": [
    "Llama a `number_tracks()` seis veces, cambiando los valores de los parámetros para que recuperes los datos de ambas ciudades para cada uno de los tres días."
   ]
  },
  {
   "cell_type": "code",
   "execution_count": 24,
   "metadata": {
    "id": "hq_ncZ5T_Zcu"
   },
   "outputs": [
    {
     "name": "stdout",
     "output_type": "stream",
     "text": [
      "Número de canciones reproducidas el lunes en Shelbyville: 5614\n"
     ]
    }
   ],
   "source": [
    "num_tracks_monday_springfield = number_tracks('Monday', 'Shelbyville')\n",
    "\n",
    "print(f\"Número de canciones reproducidas el lunes en Shelbyville: {num_tracks_monday_springfield}\")\n"
   ]
  },
  {
   "cell_type": "code",
   "execution_count": 25,
   "metadata": {
    "id": "_NTy2VPU_Zcu"
   },
   "outputs": [
    {
     "name": "stdout",
     "output_type": "stream",
     "text": [
      "Número de canciones reproducidas el Wednesday en Springfield: 11056\n"
     ]
    }
   ],
   "source": [
    "num_tracks_monday_springfield = number_tracks('Wednesday', 'Springfield')\n",
    "\n",
    "print(f\"Número de canciones reproducidas el Wednesday en Springfield: {num_tracks_monday_springfield}\")"
   ]
  },
  {
   "cell_type": "code",
   "execution_count": 26,
   "metadata": {
    "id": "j2y3TAwo_Zcu"
   },
   "outputs": [
    {
     "name": "stdout",
     "output_type": "stream",
     "text": [
      "Número de canciones reproducidas el Wednesday en Shelbyville: 7003\n"
     ]
    }
   ],
   "source": [
    "num_tracks_monday_springfield = number_tracks('Wednesday', 'Shelbyville')\n",
    "\n",
    "print(f\"Número de canciones reproducidas el Wednesday en Shelbyville: {num_tracks_monday_springfield}\")\n"
   ]
  },
  {
   "cell_type": "code",
   "execution_count": 27,
   "metadata": {
    "id": "vYDw5u_K_Zcu"
   },
   "outputs": [
    {
     "name": "stdout",
     "output_type": "stream",
     "text": [
      "Número de canciones reproducidas el Friday en Springfield: 15945\n"
     ]
    }
   ],
   "source": [
    "num_tracks_monday_springfield = number_tracks('Friday', 'Springfield')\n",
    "\n",
    "print(f\"Número de canciones reproducidas el Friday en Springfield: {num_tracks_monday_springfield}\")\n"
   ]
  },
  {
   "cell_type": "code",
   "execution_count": 28,
   "metadata": {
    "id": "8_yzFtW3_Zcu"
   },
   "outputs": [
    {
     "name": "stdout",
     "output_type": "stream",
     "text": [
      "Número de canciones reproducidas el Friday en Shelbyville: 5895\n"
     ]
    }
   ],
   "source": [
    "num_tracks_monday_springfield = number_tracks('Friday', 'Shelbyville')\n",
    "\n",
    "print(f\"Número de canciones reproducidas el Friday en Shelbyville: {num_tracks_monday_springfield}\")\n"
   ]
  },
  {
   "cell_type": "markdown",
   "metadata": {
    "id": "-EgPIHYu_Zcu"
   },
   "source": [
    "**Conclusiones**\n",
    "\n",
    "Si, se confirma que springfield escucha mucha mas musica que shelbyville, y se escucha más musica en viernes que los otros dias. "
   ]
  },
  {
   "cell_type": "markdown",
   "metadata": {
    "id": "p7nFQajCVw5B"
   },
   "source": [
    "[Volver a Contenidos](#back)"
   ]
  },
  {
   "cell_type": "markdown",
   "metadata": {
    "id": "ykKQ0N65_Zcv"
   },
   "source": [
    "# Conclusiones <a id='end'></a>"
   ]
  },
  {
   "cell_type": "markdown",
   "metadata": {
    "id": "tjUwbHb3_Zcv"
   },
   "source": [
    "Se concluye que se escucha mas musica los dias viernes y puede deberse a factores como que son los dias en que la gente usualmente puede salir de fiesta o reuniones, lo cual eleva los numeros. Desconozco geograficamente porque shelbyville escucha menos musica que springfield, tal vez pueda deberse a la densidad demográfica que existe y eso pueda generar tal diferencia."
   ]
  },
  {
   "cell_type": "markdown",
   "metadata": {
    "id": "Ju4AHDSgV1FE"
   },
   "source": [
    "[Volver a Contenidos](#back)"
   ]
  }
 ],
 "metadata": {
  "ExecuteTimeLog": [
   {
    "duration": 481,
    "start_time": "2024-08-18T22:40:15.050Z"
   },
   {
    "duration": 197,
    "start_time": "2024-08-18T22:41:39.595Z"
   },
   {
    "duration": 4,
    "start_time": "2024-08-18T22:41:45.746Z"
   },
   {
    "duration": 203,
    "start_time": "2024-08-18T22:42:31.286Z"
   },
   {
    "duration": 38,
    "start_time": "2024-08-18T22:43:11.737Z"
   },
   {
    "duration": 48,
    "start_time": "2024-08-18T22:43:19.571Z"
   },
   {
    "duration": 34,
    "start_time": "2024-08-18T22:43:26.253Z"
   },
   {
    "duration": 177,
    "start_time": "2024-08-18T22:49:05.706Z"
   },
   {
    "duration": 161,
    "start_time": "2024-08-18T22:49:12.521Z"
   },
   {
    "duration": 183,
    "start_time": "2024-08-18T22:52:41.924Z"
   },
   {
    "duration": 158,
    "start_time": "2024-08-18T22:53:09.852Z"
   },
   {
    "duration": 4,
    "start_time": "2024-08-18T22:57:13.679Z"
   },
   {
    "duration": 7,
    "start_time": "2024-08-18T22:58:33.786Z"
   },
   {
    "duration": 327,
    "start_time": "2024-08-19T00:11:00.669Z"
   },
   {
    "duration": 30,
    "start_time": "2024-08-19T00:11:11.985Z"
   },
   {
    "duration": 23,
    "start_time": "2024-08-19T00:11:27.192Z"
   },
   {
    "duration": 6,
    "start_time": "2024-08-19T00:12:44.693Z"
   },
   {
    "duration": 7,
    "start_time": "2024-08-19T00:14:49.139Z"
   },
   {
    "duration": 5,
    "start_time": "2024-08-19T00:14:53.046Z"
   },
   {
    "duration": 303,
    "start_time": "2024-08-19T02:39:28.718Z"
   },
   {
    "duration": 21,
    "start_time": "2024-08-19T02:39:36.153Z"
   },
   {
    "duration": 408,
    "start_time": "2024-08-19T02:39:50.297Z"
   },
   {
    "duration": 202,
    "start_time": "2024-08-19T02:39:52.274Z"
   },
   {
    "duration": 167,
    "start_time": "2024-08-19T02:39:54.458Z"
   },
   {
    "duration": 32,
    "start_time": "2024-08-19T02:39:56.902Z"
   },
   {
    "duration": 5,
    "start_time": "2024-08-19T02:40:02.090Z"
   },
   {
    "duration": 6,
    "start_time": "2024-08-19T02:40:07.384Z"
   },
   {
    "duration": 5,
    "start_time": "2024-08-19T02:40:37.633Z"
   },
   {
    "duration": 5,
    "start_time": "2024-08-19T02:41:05.078Z"
   },
   {
    "duration": 768,
    "start_time": "2024-08-19T02:41:27.940Z"
   },
   {
    "duration": 5,
    "start_time": "2024-08-19T02:41:41.491Z"
   },
   {
    "duration": 5,
    "start_time": "2024-08-19T02:41:51.993Z"
   },
   {
    "duration": 52,
    "start_time": "2024-08-19T02:42:42.811Z"
   },
   {
    "duration": 56,
    "start_time": "2024-08-19T02:42:51.567Z"
   },
   {
    "duration": 5,
    "start_time": "2024-08-19T02:43:07.188Z"
   },
   {
    "duration": 26,
    "start_time": "2024-08-19T02:43:22.344Z"
   },
   {
    "duration": 6,
    "start_time": "2024-08-19T02:43:30.315Z"
   },
   {
    "duration": 4,
    "start_time": "2024-08-19T02:43:34.599Z"
   },
   {
    "duration": 176,
    "start_time": "2024-08-19T02:43:45.790Z"
   },
   {
    "duration": 33,
    "start_time": "2024-08-19T02:43:48.804Z"
   },
   {
    "duration": 6,
    "start_time": "2024-08-19T02:44:03.186Z"
   },
   {
    "duration": 6,
    "start_time": "2024-08-19T02:44:14.981Z"
   },
   {
    "duration": 5,
    "start_time": "2024-08-19T02:44:17.255Z"
   },
   {
    "duration": 4,
    "start_time": "2024-08-19T02:44:23.880Z"
   },
   {
    "duration": 31,
    "start_time": "2024-08-19T02:44:45.330Z"
   },
   {
    "duration": 159,
    "start_time": "2024-08-19T02:44:48.678Z"
   },
   {
    "duration": 32,
    "start_time": "2024-08-19T02:44:52.156Z"
   },
   {
    "duration": 4,
    "start_time": "2024-08-19T02:44:56.691Z"
   },
   {
    "duration": 5,
    "start_time": "2024-08-19T02:45:01.518Z"
   },
   {
    "duration": 161,
    "start_time": "2024-08-19T02:45:49.958Z"
   },
   {
    "duration": 32,
    "start_time": "2024-08-19T02:45:52.914Z"
   },
   {
    "duration": 4,
    "start_time": "2024-08-19T02:45:57.673Z"
   },
   {
    "duration": 25,
    "start_time": "2024-08-19T02:46:29.751Z"
   },
   {
    "duration": 0,
    "start_time": "2024-08-19T02:47:33.150Z"
   },
   {
    "duration": 4,
    "start_time": "2024-08-19T02:50:02.267Z"
   },
   {
    "duration": 3,
    "start_time": "2024-08-19T02:50:05.356Z"
   },
   {
    "duration": 4,
    "start_time": "2024-08-19T02:50:08.725Z"
   },
   {
    "duration": 162,
    "start_time": "2024-08-19T02:50:12.303Z"
   },
   {
    "duration": 160,
    "start_time": "2024-08-19T02:50:25.343Z"
   },
   {
    "duration": 31,
    "start_time": "2024-08-19T02:50:28.024Z"
   },
   {
    "duration": 5,
    "start_time": "2024-08-19T02:50:32.653Z"
   },
   {
    "duration": 52,
    "start_time": "2024-08-19T02:50:37.880Z"
   },
   {
    "duration": 4,
    "start_time": "2024-08-19T02:50:49.201Z"
   },
   {
    "duration": 53,
    "start_time": "2024-08-19T02:50:50.742Z"
   },
   {
    "duration": 152,
    "start_time": "2024-08-19T02:52:34.720Z"
   },
   {
    "duration": 4,
    "start_time": "2024-08-19T02:52:39.927Z"
   },
   {
    "duration": 52,
    "start_time": "2024-08-19T02:52:42.494Z"
   },
   {
    "duration": 32,
    "start_time": "2024-08-19T02:52:46.952Z"
   },
   {
    "duration": 5,
    "start_time": "2024-08-19T02:53:23.014Z"
   },
   {
    "duration": 55,
    "start_time": "2024-08-19T02:54:30.976Z"
   },
   {
    "duration": 53,
    "start_time": "2024-08-19T02:54:46.892Z"
   },
   {
    "duration": 54,
    "start_time": "2024-08-19T02:55:10.260Z"
   },
   {
    "duration": 60,
    "start_time": "2024-08-19T02:55:19.508Z"
   },
   {
    "duration": 57,
    "start_time": "2024-08-19T02:55:35.026Z"
   },
   {
    "duration": 57,
    "start_time": "2024-08-19T02:56:12.452Z"
   },
   {
    "duration": 5,
    "start_time": "2024-08-19T02:56:18.960Z"
   },
   {
    "duration": 157,
    "start_time": "2024-08-19T02:56:24.234Z"
   },
   {
    "duration": 34,
    "start_time": "2024-08-19T02:56:26.862Z"
   },
   {
    "duration": 4,
    "start_time": "2024-08-19T02:56:29.756Z"
   },
   {
    "duration": 55,
    "start_time": "2024-08-19T02:56:32.549Z"
   },
   {
    "duration": 56,
    "start_time": "2024-08-19T02:56:43.369Z"
   },
   {
    "duration": 330,
    "start_time": "2024-08-19T02:57:17.518Z"
   },
   {
    "duration": 21,
    "start_time": "2024-08-19T02:57:22.475Z"
   },
   {
    "duration": 22,
    "start_time": "2024-08-19T02:57:24.788Z"
   },
   {
    "duration": 427,
    "start_time": "2024-08-19T02:57:37.569Z"
   },
   {
    "duration": 160,
    "start_time": "2024-08-19T02:57:39.897Z"
   },
   {
    "duration": 167,
    "start_time": "2024-08-19T02:57:42.030Z"
   },
   {
    "duration": 33,
    "start_time": "2024-08-19T02:57:44.901Z"
   },
   {
    "duration": 5,
    "start_time": "2024-08-19T02:57:48.356Z"
   },
   {
    "duration": 349,
    "start_time": "2024-08-19T02:57:51.197Z"
   },
   {
    "duration": 415,
    "start_time": "2024-08-19T02:58:11.978Z"
   },
   {
    "duration": 155,
    "start_time": "2024-08-19T02:58:14.488Z"
   },
   {
    "duration": 158,
    "start_time": "2024-08-19T02:58:16.720Z"
   },
   {
    "duration": 32,
    "start_time": "2024-08-19T02:58:20.664Z"
   },
   {
    "duration": 5,
    "start_time": "2024-08-19T02:58:25.027Z"
   },
   {
    "duration": 0,
    "start_time": "2024-08-19T02:58:40.660Z"
   },
   {
    "duration": 399,
    "start_time": "2024-08-19T02:58:48.695Z"
   },
   {
    "duration": 160,
    "start_time": "2024-08-19T02:58:50.899Z"
   },
   {
    "duration": 163,
    "start_time": "2024-08-19T02:58:53.145Z"
   },
   {
    "duration": 32,
    "start_time": "2024-08-19T02:58:55.805Z"
   },
   {
    "duration": 5,
    "start_time": "2024-08-19T02:59:00.283Z"
   },
   {
    "duration": 444,
    "start_time": "2024-08-19T02:59:47.449Z"
   },
   {
    "duration": 157,
    "start_time": "2024-08-19T02:59:49.678Z"
   },
   {
    "duration": 171,
    "start_time": "2024-08-19T02:59:51.710Z"
   },
   {
    "duration": 31,
    "start_time": "2024-08-19T02:59:54.043Z"
   },
   {
    "duration": 11,
    "start_time": "2024-08-19T03:00:00.267Z"
   },
   {
    "duration": 344,
    "start_time": "2024-08-19T03:00:03.323Z"
   },
   {
    "duration": 26,
    "start_time": "2024-08-19T03:00:46.102Z"
   },
   {
    "duration": 6,
    "start_time": "2024-08-19T03:00:54.151Z"
   },
   {
    "duration": 24,
    "start_time": "2024-08-19T03:01:49.064Z"
   },
   {
    "duration": 6,
    "start_time": "2024-08-19T03:02:15.191Z"
   },
   {
    "duration": 3,
    "start_time": "2024-08-19T03:02:36.858Z"
   },
   {
    "duration": 163,
    "start_time": "2024-08-19T03:02:38.637Z"
   },
   {
    "duration": 172,
    "start_time": "2024-08-19T03:02:41.073Z"
   },
   {
    "duration": 33,
    "start_time": "2024-08-19T03:02:43.602Z"
   },
   {
    "duration": 4,
    "start_time": "2024-08-19T03:02:47.566Z"
   },
   {
    "duration": 6,
    "start_time": "2024-08-19T03:02:50.766Z"
   },
   {
    "duration": 184,
    "start_time": "2024-08-19T03:03:10.583Z"
   },
   {
    "duration": 5,
    "start_time": "2024-08-19T03:03:49.877Z"
   },
   {
    "duration": 5,
    "start_time": "2024-08-19T03:03:57.614Z"
   },
   {
    "duration": 3,
    "start_time": "2024-08-19T03:04:02.978Z"
   },
   {
    "duration": 417,
    "start_time": "2024-08-19T03:04:08.302Z"
   },
   {
    "duration": 156,
    "start_time": "2024-08-19T03:04:09.592Z"
   },
   {
    "duration": 171,
    "start_time": "2024-08-19T03:04:11.666Z"
   },
   {
    "duration": 32,
    "start_time": "2024-08-19T03:04:14.352Z"
   },
   {
    "duration": 4,
    "start_time": "2024-08-19T03:04:17.666Z"
   },
   {
    "duration": 5,
    "start_time": "2024-08-19T03:04:20.274Z"
   },
   {
    "duration": 4,
    "start_time": "2024-08-19T03:08:36.829Z"
   },
   {
    "duration": 5,
    "start_time": "2024-08-19T03:08:49.238Z"
   },
   {
    "duration": 333,
    "start_time": "2024-08-19T03:09:40.908Z"
   },
   {
    "duration": 8,
    "start_time": "2024-08-19T03:10:00.033Z"
   },
   {
    "duration": 24,
    "start_time": "2024-08-19T03:10:26.661Z"
   },
   {
    "duration": 6,
    "start_time": "2024-08-19T03:10:52.884Z"
   },
   {
    "duration": 5,
    "start_time": "2024-08-19T03:11:44.334Z"
   },
   {
    "duration": 6,
    "start_time": "2024-08-19T03:11:46.686Z"
   },
   {
    "duration": 444,
    "start_time": "2024-08-19T03:11:53.418Z"
   },
   {
    "duration": 157,
    "start_time": "2024-08-19T03:11:55.058Z"
   },
   {
    "duration": 162,
    "start_time": "2024-08-19T03:11:57.694Z"
   },
   {
    "duration": 169,
    "start_time": "2024-08-19T03:12:11.665Z"
   },
   {
    "duration": 34,
    "start_time": "2024-08-19T03:12:15.601Z"
   },
   {
    "duration": 4,
    "start_time": "2024-08-19T03:12:27.270Z"
   },
   {
    "duration": 7,
    "start_time": "2024-08-19T03:12:29.894Z"
   },
   {
    "duration": 338,
    "start_time": "2024-08-19T03:12:32.153Z"
   },
   {
    "duration": 6,
    "start_time": "2024-08-19T03:12:52.277Z"
   },
   {
    "duration": 3,
    "start_time": "2024-08-19T03:14:57.383Z"
   },
   {
    "duration": 160,
    "start_time": "2024-08-19T03:14:59.504Z"
   },
   {
    "duration": 410,
    "start_time": "2024-08-19T03:15:05.203Z"
   },
   {
    "duration": 162,
    "start_time": "2024-08-19T03:15:06.678Z"
   },
   {
    "duration": 164,
    "start_time": "2024-08-19T03:15:08.779Z"
   },
   {
    "duration": 33,
    "start_time": "2024-08-19T03:15:11.186Z"
   },
   {
    "duration": 4,
    "start_time": "2024-08-19T03:15:14.842Z"
   },
   {
    "duration": 11,
    "start_time": "2024-08-19T03:15:17.134Z"
   },
   {
    "duration": 6,
    "start_time": "2024-08-19T03:15:19.767Z"
   },
   {
    "duration": 6,
    "start_time": "2024-08-19T03:15:50.728Z"
   },
   {
    "duration": 414,
    "start_time": "2024-08-19T03:16:00.780Z"
   },
   {
    "duration": 159,
    "start_time": "2024-08-19T03:16:02.598Z"
   },
   {
    "duration": 160,
    "start_time": "2024-08-19T03:16:04.893Z"
   },
   {
    "duration": 33,
    "start_time": "2024-08-19T03:16:07.805Z"
   },
   {
    "duration": 4,
    "start_time": "2024-08-19T03:16:17.736Z"
   },
   {
    "duration": 5,
    "start_time": "2024-08-19T03:16:23.000Z"
   },
   {
    "duration": 1076,
    "start_time": "2024-08-19T03:16:34.425Z"
   },
   {
    "duration": 6,
    "start_time": "2024-08-19T03:16:46.095Z"
   },
   {
    "duration": 27,
    "start_time": "2024-08-19T03:21:22.739Z"
   },
   {
    "duration": 28,
    "start_time": "2024-08-19T03:21:43.385Z"
   },
   {
    "duration": 5,
    "start_time": "2024-08-19T03:21:52.466Z"
   },
   {
    "duration": 6,
    "start_time": "2024-08-19T03:22:34.442Z"
   },
   {
    "duration": 5,
    "start_time": "2024-08-19T03:22:51.691Z"
   },
   {
    "duration": 197,
    "start_time": "2024-08-19T03:37:01.272Z"
   },
   {
    "duration": 982,
    "start_time": "2024-08-19T03:39:03.282Z"
   },
   {
    "duration": 73,
    "start_time": "2024-08-19T03:39:33.978Z"
   },
   {
    "duration": 75,
    "start_time": "2024-08-19T03:40:27.934Z"
   },
   {
    "duration": 167,
    "start_time": "2024-08-19T03:41:39.978Z"
   },
   {
    "duration": 239,
    "start_time": "2024-08-19T03:42:28.603Z"
   },
   {
    "duration": 234,
    "start_time": "2024-08-19T03:43:29.433Z"
   },
   {
    "duration": 425,
    "start_time": "2024-08-19T03:43:39.499Z"
   },
   {
    "duration": 166,
    "start_time": "2024-08-19T03:43:41.459Z"
   },
   {
    "duration": 160,
    "start_time": "2024-08-19T03:43:43.670Z"
   },
   {
    "duration": 32,
    "start_time": "2024-08-19T03:43:46.028Z"
   },
   {
    "duration": 4,
    "start_time": "2024-08-19T03:43:52.080Z"
   },
   {
    "duration": 6,
    "start_time": "2024-08-19T03:43:54.618Z"
   },
   {
    "duration": 6,
    "start_time": "2024-08-19T03:43:56.675Z"
   },
   {
    "duration": 6,
    "start_time": "2024-08-19T03:43:58.916Z"
   },
   {
    "duration": 4,
    "start_time": "2024-08-19T03:44:03.288Z"
   },
   {
    "duration": 182,
    "start_time": "2024-08-19T03:44:06.796Z"
   },
   {
    "duration": 1292,
    "start_time": "2024-08-19T03:44:13.963Z"
   },
   {
    "duration": 171,
    "start_time": "2024-08-19T03:45:20.056Z"
   },
   {
    "duration": 204,
    "start_time": "2024-08-19T03:45:31.383Z"
   },
   {
    "duration": 9,
    "start_time": "2024-08-19T03:46:19.486Z"
   },
   {
    "duration": 396,
    "start_time": "2024-08-19T03:46:33.499Z"
   },
   {
    "duration": 6,
    "start_time": "2024-08-19T03:46:47.228Z"
   },
   {
    "duration": 228,
    "start_time": "2024-08-19T03:47:44.878Z"
   },
   {
    "duration": 175,
    "start_time": "2024-08-19T03:48:03.782Z"
   },
   {
    "duration": 243,
    "start_time": "2024-08-19T03:48:24.297Z"
   },
   {
    "duration": 223,
    "start_time": "2024-08-19T03:49:09.723Z"
   },
   {
    "duration": 230,
    "start_time": "2024-08-19T03:49:14.549Z"
   },
   {
    "duration": 171,
    "start_time": "2024-08-19T03:49:46.298Z"
   },
   {
    "duration": 5,
    "start_time": "2024-08-19T03:50:01.292Z"
   },
   {
    "duration": 434,
    "start_time": "2024-08-19T03:50:13.668Z"
   },
   {
    "duration": 173,
    "start_time": "2024-08-19T03:50:15.346Z"
   },
   {
    "duration": 161,
    "start_time": "2024-08-19T03:50:19.757Z"
   },
   {
    "duration": 33,
    "start_time": "2024-08-19T03:50:22.050Z"
   },
   {
    "duration": 6,
    "start_time": "2024-08-19T03:50:26.085Z"
   },
   {
    "duration": 6,
    "start_time": "2024-08-19T03:50:28.198Z"
   },
   {
    "duration": 6,
    "start_time": "2024-08-19T03:50:31.634Z"
   },
   {
    "duration": 5,
    "start_time": "2024-08-19T03:50:34.192Z"
   },
   {
    "duration": 5,
    "start_time": "2024-08-19T03:50:37.464Z"
   },
   {
    "duration": 26,
    "start_time": "2024-08-19T03:50:49.974Z"
   },
   {
    "duration": 25,
    "start_time": "2024-08-19T03:50:58.730Z"
   },
   {
    "duration": 25,
    "start_time": "2024-08-19T03:51:36.306Z"
   },
   {
    "duration": 73,
    "start_time": "2024-08-19T03:53:08.378Z"
   },
   {
    "duration": 86,
    "start_time": "2024-08-19T04:08:16.490Z"
   },
   {
    "duration": 79,
    "start_time": "2024-08-19T04:08:48.601Z"
   },
   {
    "duration": 67,
    "start_time": "2024-08-19T04:09:15.877Z"
   },
   {
    "duration": 10,
    "start_time": "2024-08-19T04:11:12.379Z"
   },
   {
    "duration": 10,
    "start_time": "2024-08-19T04:12:00.365Z"
   },
   {
    "duration": 3,
    "start_time": "2024-08-19T04:12:42.056Z"
   },
   {
    "duration": 3,
    "start_time": "2024-08-19T04:12:44.661Z"
   },
   {
    "duration": 19,
    "start_time": "2024-08-19T04:13:03.020Z"
   },
   {
    "duration": 3,
    "start_time": "2024-08-19T04:16:08.601Z"
   },
   {
    "duration": 7,
    "start_time": "2024-08-19T04:16:53.527Z"
   },
   {
    "duration": 6,
    "start_time": "2024-08-19T04:17:01.725Z"
   },
   {
    "duration": 18,
    "start_time": "2024-08-19T04:17:07.601Z"
   },
   {
    "duration": 3,
    "start_time": "2024-08-19T04:17:36.647Z"
   },
   {
    "duration": 10,
    "start_time": "2024-08-19T04:17:42.251Z"
   },
   {
    "duration": 553,
    "start_time": "2024-08-19T04:24:49.383Z"
   },
   {
    "duration": 16,
    "start_time": "2024-08-19T04:25:26.773Z"
   },
   {
    "duration": 23,
    "start_time": "2024-08-19T04:27:37.058Z"
   },
   {
    "duration": 718,
    "start_time": "2024-08-19T04:28:01.806Z"
   },
   {
    "duration": 16,
    "start_time": "2024-08-19T04:28:43.460Z"
   },
   {
    "duration": 529,
    "start_time": "2024-08-19T04:32:34.530Z"
   },
   {
    "duration": 22,
    "start_time": "2024-08-19T04:32:54.201Z"
   },
   {
    "duration": 23,
    "start_time": "2024-08-19T04:32:59.133Z"
   },
   {
    "duration": 22,
    "start_time": "2024-08-19T04:33:04.116Z"
   },
   {
    "duration": 22,
    "start_time": "2024-08-19T04:33:45.698Z"
   },
   {
    "duration": 22,
    "start_time": "2024-08-19T04:36:39.624Z"
   },
   {
    "duration": 20,
    "start_time": "2024-08-19T04:36:54.100Z"
   },
   {
    "duration": 20,
    "start_time": "2024-08-19T04:37:13.476Z"
   },
   {
    "duration": 19,
    "start_time": "2024-08-19T04:37:35.850Z"
   },
   {
    "duration": 24,
    "start_time": "2024-08-19T04:38:00.493Z"
   },
   {
    "duration": 22,
    "start_time": "2024-08-19T04:38:02.909Z"
   },
   {
    "duration": 18,
    "start_time": "2024-08-19T04:38:28.693Z"
   },
   {
    "duration": 1156,
    "start_time": "2024-08-20T21:27:35.372Z"
   },
   {
    "duration": 791,
    "start_time": "2024-08-20T21:27:36.532Z"
   },
   {
    "duration": 324,
    "start_time": "2024-08-20T21:27:37.326Z"
   },
   {
    "duration": 86,
    "start_time": "2024-08-20T21:27:37.653Z"
   },
   {
    "duration": 5,
    "start_time": "2024-08-20T21:27:37.746Z"
   },
   {
    "duration": 69,
    "start_time": "2024-08-20T21:27:37.755Z"
   },
   {
    "duration": 7,
    "start_time": "2024-08-20T21:27:37.828Z"
   },
   {
    "duration": 6,
    "start_time": "2024-08-20T21:27:37.839Z"
   },
   {
    "duration": 74,
    "start_time": "2024-08-20T21:27:37.849Z"
   },
   {
    "duration": 28,
    "start_time": "2024-08-20T21:27:37.927Z"
   },
   {
    "duration": 82,
    "start_time": "2024-08-20T21:27:37.958Z"
   },
   {
    "duration": 88,
    "start_time": "2024-08-20T21:27:38.043Z"
   },
   {
    "duration": 194,
    "start_time": "2024-08-20T21:27:38.134Z"
   },
   {
    "duration": 216,
    "start_time": "2024-08-20T21:27:38.335Z"
   },
   {
    "duration": 131,
    "start_time": "2024-08-20T21:27:38.554Z"
   },
   {
    "duration": 11,
    "start_time": "2024-08-20T21:27:38.687Z"
   },
   {
    "duration": 21,
    "start_time": "2024-08-20T21:27:38.724Z"
   },
   {
    "duration": 91,
    "start_time": "2024-08-20T21:27:38.748Z"
   },
   {
    "duration": 88,
    "start_time": "2024-08-20T21:27:38.842Z"
   },
   {
    "duration": 15,
    "start_time": "2024-08-20T21:27:38.933Z"
   },
   {
    "duration": 83,
    "start_time": "2024-08-20T21:27:38.951Z"
   },
   {
    "duration": 89,
    "start_time": "2024-08-20T21:27:39.038Z"
   },
   {
    "duration": 23,
    "start_time": "2024-08-20T21:27:39.130Z"
   },
   {
    "duration": 78,
    "start_time": "2024-08-20T21:27:39.156Z"
   },
   {
    "duration": 21,
    "start_time": "2024-08-20T21:27:39.237Z"
   },
   {
    "duration": 21,
    "start_time": "2024-08-20T21:27:39.324Z"
   },
   {
    "duration": 86,
    "start_time": "2024-08-20T21:27:39.348Z"
   },
   {
    "duration": 87,
    "start_time": "2024-08-20T21:27:39.437Z"
   },
   {
    "duration": 308,
    "start_time": "2024-08-21T00:40:00.405Z"
   },
   {
    "duration": 507,
    "start_time": "2024-08-21T00:40:13.472Z"
   },
   {
    "duration": 190,
    "start_time": "2024-08-21T00:40:15.820Z"
   },
   {
    "duration": 12,
    "start_time": "2024-08-21T00:40:31.341Z"
   },
   {
    "duration": 31,
    "start_time": "2024-08-21T00:41:55.384Z"
   },
   {
    "duration": 5,
    "start_time": "2024-08-21T00:41:59.834Z"
   },
   {
    "duration": 5,
    "start_time": "2024-08-21T00:42:02.532Z"
   },
   {
    "duration": 5,
    "start_time": "2024-08-21T00:42:05.247Z"
   },
   {
    "duration": 6,
    "start_time": "2024-08-21T00:42:10.064Z"
   },
   {
    "duration": 29,
    "start_time": "2024-08-21T00:42:12.756Z"
   },
   {
    "duration": 24,
    "start_time": "2024-08-21T00:42:19.734Z"
   },
   {
    "duration": 28,
    "start_time": "2024-08-21T00:42:22.446Z"
   },
   {
    "duration": 75,
    "start_time": "2024-08-21T00:42:26.326Z"
   },
   {
    "duration": 90,
    "start_time": "2024-08-21T00:42:33.233Z"
   },
   {
    "duration": 74,
    "start_time": "2024-08-21T00:42:42.699Z"
   },
   {
    "duration": 137,
    "start_time": "2024-08-21T00:44:52.273Z"
   },
   {
    "duration": 225,
    "start_time": "2024-08-21T00:45:48.200Z"
   },
   {
    "duration": 10,
    "start_time": "2024-08-21T00:46:10.988Z"
   },
   {
    "duration": 23,
    "start_time": "2024-08-21T00:46:59.916Z"
   },
   {
    "duration": 9,
    "start_time": "2024-08-21T00:47:31.429Z"
   },
   {
    "duration": 475,
    "start_time": "2024-08-21T00:48:12.394Z"
   },
   {
    "duration": 155,
    "start_time": "2024-08-21T00:48:14.048Z"
   },
   {
    "duration": 12,
    "start_time": "2024-08-21T00:48:16.031Z"
   },
   {
    "duration": 32,
    "start_time": "2024-08-21T00:48:18.130Z"
   },
   {
    "duration": 4,
    "start_time": "2024-08-21T00:48:22.018Z"
   },
   {
    "duration": 6,
    "start_time": "2024-08-21T00:48:23.949Z"
   },
   {
    "duration": 6,
    "start_time": "2024-08-21T00:48:25.680Z"
   },
   {
    "duration": 6,
    "start_time": "2024-08-21T00:48:27.211Z"
   },
   {
    "duration": 4,
    "start_time": "2024-08-21T00:48:29.732Z"
   },
   {
    "duration": 26,
    "start_time": "2024-08-21T00:48:32.260Z"
   },
   {
    "duration": 25,
    "start_time": "2024-08-21T00:48:35.760Z"
   },
   {
    "duration": 27,
    "start_time": "2024-08-21T00:48:38.394Z"
   },
   {
    "duration": 76,
    "start_time": "2024-08-21T00:48:41.326Z"
   },
   {
    "duration": 90,
    "start_time": "2024-08-21T00:48:44.579Z"
   },
   {
    "duration": 70,
    "start_time": "2024-08-21T00:48:48.787Z"
   },
   {
    "duration": 12,
    "start_time": "2024-08-21T00:48:52.463Z"
   },
   {
    "duration": 18,
    "start_time": "2024-08-21T00:48:59.136Z"
   },
   {
    "duration": 18,
    "start_time": "2024-08-21T00:49:03.240Z"
   },
   {
    "duration": 12,
    "start_time": "2024-08-21T00:49:46.558Z"
   },
   {
    "duration": 17,
    "start_time": "2024-08-21T00:49:48.933Z"
   },
   {
    "duration": 11,
    "start_time": "2024-08-21T00:50:06.037Z"
   },
   {
    "duration": 11,
    "start_time": "2024-08-21T00:50:43.305Z"
   },
   {
    "duration": 10,
    "start_time": "2024-08-21T00:50:58.682Z"
   },
   {
    "duration": 24,
    "start_time": "2024-08-21T00:52:55.984Z"
   },
   {
    "duration": 343,
    "start_time": "2024-08-21T00:52:59.164Z"
   },
   {
    "duration": 26,
    "start_time": "2024-08-21T00:53:18.723Z"
   },
   {
    "duration": 11,
    "start_time": "2024-08-21T00:53:33.041Z"
   },
   {
    "duration": 14,
    "start_time": "2024-08-21T00:53:37.667Z"
   },
   {
    "duration": 16,
    "start_time": "2024-08-21T00:53:40.434Z"
   },
   {
    "duration": 24,
    "start_time": "2024-08-21T00:53:44.489Z"
   },
   {
    "duration": 311,
    "start_time": "2024-08-21T00:54:24.168Z"
   },
   {
    "duration": 131,
    "start_time": "2024-08-21T00:54:35.416Z"
   },
   {
    "duration": 74,
    "start_time": "2024-08-21T00:54:56.917Z"
   },
   {
    "duration": 69,
    "start_time": "2024-08-21T00:55:14.074Z"
   },
   {
    "duration": 998,
    "start_time": "2024-08-21T00:56:27.315Z"
   },
   {
    "duration": 130,
    "start_time": "2024-08-21T00:56:44.350Z"
   },
   {
    "duration": 20,
    "start_time": "2024-08-21T00:57:18.897Z"
   },
   {
    "duration": 23,
    "start_time": "2024-08-21T00:59:57.689Z"
   },
   {
    "duration": 18,
    "start_time": "2024-08-21T01:00:25.754Z"
   },
   {
    "duration": 84,
    "start_time": "2024-08-21T01:00:45.382Z"
   },
   {
    "duration": 24,
    "start_time": "2024-08-21T01:01:30.392Z"
   },
   {
    "duration": 24,
    "start_time": "2024-08-21T01:01:47.070Z"
   },
   {
    "duration": 22,
    "start_time": "2024-08-21T01:02:16.782Z"
   },
   {
    "duration": 24,
    "start_time": "2024-08-21T01:02:20.837Z"
   },
   {
    "duration": 22,
    "start_time": "2024-08-21T01:02:25.140Z"
   },
   {
    "duration": 21,
    "start_time": "2024-08-21T01:02:40.174Z"
   },
   {
    "duration": 23,
    "start_time": "2024-08-21T01:03:18.627Z"
   },
   {
    "duration": 20,
    "start_time": "2024-08-21T01:03:43.049Z"
   },
   {
    "duration": 21,
    "start_time": "2024-08-21T01:04:04.881Z"
   },
   {
    "duration": 22,
    "start_time": "2024-08-21T01:04:12.407Z"
   },
   {
    "duration": 22,
    "start_time": "2024-08-21T01:04:21.867Z"
   },
   {
    "duration": 21,
    "start_time": "2024-08-21T01:04:35.454Z"
   },
   {
    "duration": 20,
    "start_time": "2024-08-21T01:04:55.042Z"
   },
   {
    "duration": 24,
    "start_time": "2024-08-21T01:05:31.822Z"
   },
   {
    "duration": 21,
    "start_time": "2024-08-21T01:05:53.454Z"
   },
   {
    "duration": 452,
    "start_time": "2024-08-22T02:28:37.425Z"
   },
   {
    "duration": 185,
    "start_time": "2024-08-22T02:28:37.880Z"
   },
   {
    "duration": 12,
    "start_time": "2024-08-22T02:28:38.068Z"
   },
   {
    "duration": 49,
    "start_time": "2024-08-22T02:28:38.085Z"
   },
   {
    "duration": 6,
    "start_time": "2024-08-22T02:28:38.137Z"
   },
   {
    "duration": 6,
    "start_time": "2024-08-22T02:28:38.147Z"
   },
   {
    "duration": 52,
    "start_time": "2024-08-22T02:28:38.156Z"
   },
   {
    "duration": 7,
    "start_time": "2024-08-22T02:28:38.212Z"
   },
   {
    "duration": 6,
    "start_time": "2024-08-22T02:28:38.222Z"
   },
   {
    "duration": 26,
    "start_time": "2024-08-22T02:28:38.234Z"
   },
   {
    "duration": 25,
    "start_time": "2024-08-22T02:28:38.309Z"
   },
   {
    "duration": 27,
    "start_time": "2024-08-22T02:28:38.337Z"
   },
   {
    "duration": 111,
    "start_time": "2024-08-22T02:28:38.368Z"
   },
   {
    "duration": 102,
    "start_time": "2024-08-22T02:28:38.483Z"
   },
   {
    "duration": 81,
    "start_time": "2024-08-22T02:28:38.588Z"
   },
   {
    "duration": 36,
    "start_time": "2024-08-22T02:28:38.672Z"
   },
   {
    "duration": 13,
    "start_time": "2024-08-22T02:28:38.711Z"
   },
   {
    "duration": 19,
    "start_time": "2024-08-22T02:28:38.728Z"
   },
   {
    "duration": 11,
    "start_time": "2024-08-22T02:28:38.751Z"
   },
   {
    "duration": 15,
    "start_time": "2024-08-22T02:28:38.809Z"
   },
   {
    "duration": 17,
    "start_time": "2024-08-22T02:28:38.827Z"
   },
   {
    "duration": 66,
    "start_time": "2024-08-22T02:28:38.847Z"
   },
   {
    "duration": 26,
    "start_time": "2024-08-22T02:28:38.915Z"
   },
   {
    "duration": 22,
    "start_time": "2024-08-22T02:28:38.944Z"
   },
   {
    "duration": 59,
    "start_time": "2024-08-22T02:28:38.969Z"
   },
   {
    "duration": 22,
    "start_time": "2024-08-22T02:28:39.030Z"
   },
   {
    "duration": 59,
    "start_time": "2024-08-22T02:28:39.054Z"
   },
   {
    "duration": 21,
    "start_time": "2024-08-22T02:28:39.120Z"
   },
   {
    "duration": 10,
    "start_time": "2024-08-22T02:35:56.740Z"
   },
   {
    "duration": 319,
    "start_time": "2024-08-22T02:36:11.410Z"
   },
   {
    "duration": 472,
    "start_time": "2024-08-22T02:36:21.010Z"
   },
   {
    "duration": 479,
    "start_time": "2024-08-22T02:36:29.204Z"
   },
   {
    "duration": 192,
    "start_time": "2024-08-22T02:36:30.992Z"
   },
   {
    "duration": 12,
    "start_time": "2024-08-22T02:36:33.985Z"
   },
   {
    "duration": 36,
    "start_time": "2024-08-22T02:36:36.374Z"
   },
   {
    "duration": 5,
    "start_time": "2024-08-22T02:36:40.454Z"
   },
   {
    "duration": 6,
    "start_time": "2024-08-22T02:36:42.724Z"
   },
   {
    "duration": 10,
    "start_time": "2024-08-22T02:36:44.797Z"
   },
   {
    "duration": 7,
    "start_time": "2024-08-22T02:36:46.785Z"
   },
   {
    "duration": 5,
    "start_time": "2024-08-22T02:36:49.369Z"
   },
   {
    "duration": 28,
    "start_time": "2024-08-22T02:36:51.751Z"
   },
   {
    "duration": 28,
    "start_time": "2024-08-22T02:36:54.281Z"
   },
   {
    "duration": 27,
    "start_time": "2024-08-22T02:36:57.167Z"
   },
   {
    "duration": 89,
    "start_time": "2024-08-22T02:37:02.974Z"
   },
   {
    "duration": 103,
    "start_time": "2024-08-22T02:37:05.652Z"
   },
   {
    "duration": 83,
    "start_time": "2024-08-22T02:37:10.383Z"
   },
   {
    "duration": 10,
    "start_time": "2024-08-22T02:37:14.040Z"
   },
   {
    "duration": 4,
    "start_time": "2024-08-22T02:37:30.584Z"
   },
   {
    "duration": 20,
    "start_time": "2024-08-22T02:37:41.721Z"
   },
   {
    "duration": 11,
    "start_time": "2024-08-22T02:37:49.102Z"
   },
   {
    "duration": 16,
    "start_time": "2024-08-22T02:37:58.078Z"
   },
   {
    "duration": 17,
    "start_time": "2024-08-22T02:38:02.579Z"
   },
   {
    "duration": 23,
    "start_time": "2024-08-22T02:38:06.125Z"
   },
   {
    "duration": 24,
    "start_time": "2024-08-22T02:38:08.884Z"
   },
   {
    "duration": 23,
    "start_time": "2024-08-22T02:38:12.949Z"
   },
   {
    "duration": 23,
    "start_time": "2024-08-22T02:38:17.006Z"
   },
   {
    "duration": 26,
    "start_time": "2024-08-22T02:38:28.303Z"
   },
   {
    "duration": 21,
    "start_time": "2024-08-22T02:38:31.181Z"
   },
   {
    "duration": 448,
    "start_time": "2024-08-22T02:39:19.922Z"
   },
   {
    "duration": 167,
    "start_time": "2024-08-22T02:39:21.548Z"
   },
   {
    "duration": 11,
    "start_time": "2024-08-22T02:39:23.935Z"
   },
   {
    "duration": 35,
    "start_time": "2024-08-22T02:39:26.510Z"
   },
   {
    "duration": 5,
    "start_time": "2024-08-22T02:39:31.393Z"
   },
   {
    "duration": 6,
    "start_time": "2024-08-22T02:39:33.839Z"
   },
   {
    "duration": 5,
    "start_time": "2024-08-22T02:39:37.637Z"
   },
   {
    "duration": 6,
    "start_time": "2024-08-22T02:39:39.610Z"
   },
   {
    "duration": 4,
    "start_time": "2024-08-22T02:39:41.960Z"
   },
   {
    "duration": 27,
    "start_time": "2024-08-22T02:39:44.107Z"
   },
   {
    "duration": 25,
    "start_time": "2024-08-22T02:39:46.809Z"
   },
   {
    "duration": 33,
    "start_time": "2024-08-22T02:39:52.372Z"
   },
   {
    "duration": 77,
    "start_time": "2024-08-22T02:39:55.408Z"
   },
   {
    "duration": 91,
    "start_time": "2024-08-22T02:39:58.485Z"
   },
   {
    "duration": 74,
    "start_time": "2024-08-22T02:40:06.162Z"
   },
   {
    "duration": 10,
    "start_time": "2024-08-22T02:40:09.746Z"
   },
   {
    "duration": 4,
    "start_time": "2024-08-22T02:40:19.017Z"
   },
   {
    "duration": 17,
    "start_time": "2024-08-22T02:40:28.460Z"
   },
   {
    "duration": 10,
    "start_time": "2024-08-22T02:40:39.836Z"
   },
   {
    "duration": 16,
    "start_time": "2024-08-22T02:41:07.118Z"
   },
   {
    "duration": 15,
    "start_time": "2024-08-22T02:41:11.049Z"
   },
   {
    "duration": 24,
    "start_time": "2024-08-22T02:41:16.316Z"
   },
   {
    "duration": 7,
    "start_time": "2024-08-22T02:41:35.486Z"
   },
   {
    "duration": 5,
    "start_time": "2024-08-22T02:41:47.584Z"
   },
   {
    "duration": 30,
    "start_time": "2024-08-22T02:42:05.385Z"
   },
   {
    "duration": 21,
    "start_time": "2024-08-22T02:42:11.916Z"
   },
   {
    "duration": 26,
    "start_time": "2024-08-22T02:42:16.458Z"
   },
   {
    "duration": 20,
    "start_time": "2024-08-22T02:42:19.482Z"
   },
   {
    "duration": 20,
    "start_time": "2024-08-22T02:42:21.979Z"
   },
   {
    "duration": 322,
    "start_time": "2024-08-23T18:49:15.630Z"
   },
   {
    "duration": 23,
    "start_time": "2024-08-23T18:49:28.345Z"
   },
   {
    "duration": 22,
    "start_time": "2024-08-23T18:49:52.618Z"
   },
   {
    "duration": 48,
    "start_time": "2024-08-23T18:50:04.385Z"
   },
   {
    "duration": 466,
    "start_time": "2024-08-23T18:50:30.493Z"
   },
   {
    "duration": 244,
    "start_time": "2024-08-23T18:50:34.078Z"
   },
   {
    "duration": 11,
    "start_time": "2024-08-23T18:50:37.844Z"
   },
   {
    "duration": 33,
    "start_time": "2024-08-23T18:50:40.978Z"
   },
   {
    "duration": 4,
    "start_time": "2024-08-23T18:50:45.893Z"
   },
   {
    "duration": 6,
    "start_time": "2024-08-23T18:50:48.048Z"
   },
   {
    "duration": 6,
    "start_time": "2024-08-23T18:50:50.898Z"
   },
   {
    "duration": 6,
    "start_time": "2024-08-23T18:50:53.554Z"
   },
   {
    "duration": 6,
    "start_time": "2024-08-23T18:50:56.575Z"
   },
   {
    "duration": 27,
    "start_time": "2024-08-23T18:50:58.912Z"
   },
   {
    "duration": 33,
    "start_time": "2024-08-23T18:51:02.984Z"
   },
   {
    "duration": 37,
    "start_time": "2024-08-23T18:51:06.509Z"
   },
   {
    "duration": 78,
    "start_time": "2024-08-23T18:51:09.631Z"
   },
   {
    "duration": 91,
    "start_time": "2024-08-23T18:51:12.636Z"
   },
   {
    "duration": 75,
    "start_time": "2024-08-23T18:51:15.974Z"
   },
   {
    "duration": 12,
    "start_time": "2024-08-23T18:51:18.450Z"
   },
   {
    "duration": 4,
    "start_time": "2024-08-23T18:51:22.404Z"
   },
   {
    "duration": 20,
    "start_time": "2024-08-23T18:51:25.085Z"
   },
   {
    "duration": 12,
    "start_time": "2024-08-23T18:51:29.907Z"
   },
   {
    "duration": 17,
    "start_time": "2024-08-23T18:51:35.174Z"
   },
   {
    "duration": 18,
    "start_time": "2024-08-23T18:51:45.346Z"
   },
   {
    "duration": 27,
    "start_time": "2024-08-23T18:51:52.619Z"
   },
   {
    "duration": 385,
    "start_time": "2024-08-23T18:53:00.826Z"
   },
   {
    "duration": 22,
    "start_time": "2024-08-23T18:53:28.617Z"
   },
   {
    "duration": 409,
    "start_time": "2024-08-24T18:55:58.752Z"
   },
   {
    "duration": 183,
    "start_time": "2024-08-24T18:55:59.165Z"
   },
   {
    "duration": 11,
    "start_time": "2024-08-24T18:55:59.351Z"
   },
   {
    "duration": 50,
    "start_time": "2024-08-24T18:55:59.366Z"
   },
   {
    "duration": 5,
    "start_time": "2024-08-24T18:55:59.421Z"
   },
   {
    "duration": 7,
    "start_time": "2024-08-24T18:55:59.429Z"
   },
   {
    "duration": 7,
    "start_time": "2024-08-24T18:55:59.439Z"
   },
   {
    "duration": 46,
    "start_time": "2024-08-24T18:55:59.449Z"
   },
   {
    "duration": 5,
    "start_time": "2024-08-24T18:55:59.500Z"
   },
   {
    "duration": 27,
    "start_time": "2024-08-24T18:55:59.512Z"
   },
   {
    "duration": 60,
    "start_time": "2024-08-24T18:55:59.542Z"
   },
   {
    "duration": 26,
    "start_time": "2024-08-24T18:55:59.605Z"
   },
   {
    "duration": 99,
    "start_time": "2024-08-24T18:55:59.634Z"
   },
   {
    "duration": 105,
    "start_time": "2024-08-24T18:55:59.737Z"
   },
   {
    "duration": 80,
    "start_time": "2024-08-24T18:55:59.845Z"
   },
   {
    "duration": 10,
    "start_time": "2024-08-24T18:55:59.929Z"
   },
   {
    "duration": 5,
    "start_time": "2024-08-24T18:55:59.942Z"
   },
   {
    "duration": 45,
    "start_time": "2024-08-24T18:55:59.950Z"
   },
   {
    "duration": 11,
    "start_time": "2024-08-24T18:55:59.999Z"
   },
   {
    "duration": 14,
    "start_time": "2024-08-24T18:56:00.013Z"
   },
   {
    "duration": 17,
    "start_time": "2024-08-24T18:56:00.030Z"
   },
   {
    "duration": 23,
    "start_time": "2024-08-24T18:56:00.091Z"
   },
   {
    "duration": 355,
    "start_time": "2024-08-24T18:56:00.116Z"
   },
   {
    "duration": 0,
    "start_time": "2024-08-24T18:56:00.473Z"
   },
   {
    "duration": 0,
    "start_time": "2024-08-24T18:56:00.476Z"
   },
   {
    "duration": 0,
    "start_time": "2024-08-24T18:56:00.491Z"
   },
   {
    "duration": 0,
    "start_time": "2024-08-24T18:56:00.493Z"
   },
   {
    "duration": 0,
    "start_time": "2024-08-24T18:56:00.495Z"
   },
   {
    "duration": 309,
    "start_time": "2024-08-24T19:00:43.068Z"
   },
   {
    "duration": 40,
    "start_time": "2024-08-24T19:01:33.770Z"
   },
   {
    "duration": 426,
    "start_time": "2024-08-24T19:02:18.003Z"
   },
   {
    "duration": 180,
    "start_time": "2024-08-24T19:02:19.671Z"
   },
   {
    "duration": 11,
    "start_time": "2024-08-24T19:02:22.057Z"
   },
   {
    "duration": 36,
    "start_time": "2024-08-24T19:02:25.086Z"
   },
   {
    "duration": 4,
    "start_time": "2024-08-24T19:02:28.949Z"
   },
   {
    "duration": 5,
    "start_time": "2024-08-24T19:02:32.280Z"
   },
   {
    "duration": 6,
    "start_time": "2024-08-24T19:02:41.547Z"
   },
   {
    "duration": 441,
    "start_time": "2024-08-24T19:02:51.659Z"
   },
   {
    "duration": 169,
    "start_time": "2024-08-24T19:02:54.036Z"
   },
   {
    "duration": 10,
    "start_time": "2024-08-24T19:02:56.804Z"
   },
   {
    "duration": 32,
    "start_time": "2024-08-24T19:02:59.629Z"
   },
   {
    "duration": 4,
    "start_time": "2024-08-24T19:03:04.279Z"
   },
   {
    "duration": 5,
    "start_time": "2024-08-24T19:03:10.731Z"
   },
   {
    "duration": 6,
    "start_time": "2024-08-24T19:03:15.719Z"
   },
   {
    "duration": 6,
    "start_time": "2024-08-24T19:03:18.245Z"
   },
   {
    "duration": 4,
    "start_time": "2024-08-24T19:03:20.282Z"
   },
   {
    "duration": 26,
    "start_time": "2024-08-24T19:03:23.369Z"
   },
   {
    "duration": 28,
    "start_time": "2024-08-24T19:03:26.028Z"
   },
   {
    "duration": 28,
    "start_time": "2024-08-24T19:03:30.185Z"
   },
   {
    "duration": 74,
    "start_time": "2024-08-24T19:03:32.933Z"
   },
   {
    "duration": 85,
    "start_time": "2024-08-24T19:03:35.211Z"
   },
   {
    "duration": 69,
    "start_time": "2024-08-24T19:03:38.438Z"
   },
   {
    "duration": 9,
    "start_time": "2024-08-24T19:03:42.715Z"
   },
   {
    "duration": 5,
    "start_time": "2024-08-24T19:03:46.035Z"
   },
   {
    "duration": 22,
    "start_time": "2024-08-24T19:06:34.008Z"
   },
   {
    "duration": 11,
    "start_time": "2024-08-24T19:06:38.013Z"
   },
   {
    "duration": 15,
    "start_time": "2024-08-24T19:06:42.209Z"
   },
   {
    "duration": 16,
    "start_time": "2024-08-24T19:06:45.108Z"
   },
   {
    "duration": 23,
    "start_time": "2024-08-24T19:06:52.805Z"
   },
   {
    "duration": 22,
    "start_time": "2024-08-24T19:08:20.723Z"
   },
   {
    "duration": 19,
    "start_time": "2024-08-24T19:08:25.972Z"
   },
   {
    "duration": 20,
    "start_time": "2024-08-24T19:08:28.281Z"
   },
   {
    "duration": 18,
    "start_time": "2024-08-24T19:08:30.270Z"
   },
   {
    "duration": 21,
    "start_time": "2024-08-24T19:08:32.378Z"
   },
   {
    "duration": 19,
    "start_time": "2024-08-24T19:08:34.255Z"
   }
  ],
  "colab": {
   "collapsed_sections": [
    "E0vqbgi9ay0H",
    "VUC88oWjTJw2"
   ],
   "provenance": []
  },
  "kernelspec": {
   "display_name": "Python 3 (ipykernel)",
   "language": "python",
   "name": "python3"
  },
  "language_info": {
   "codemirror_mode": {
    "name": "ipython",
    "version": 3
   },
   "file_extension": ".py",
   "mimetype": "text/x-python",
   "name": "python",
   "nbconvert_exporter": "python",
   "pygments_lexer": "ipython3",
   "version": "3.9.19"
  },
  "toc": {
   "base_numbering": 1,
   "nav_menu": {},
   "number_sections": true,
   "sideBar": true,
   "skip_h1_title": true,
   "title_cell": "Table of Contents",
   "title_sidebar": "Contents",
   "toc_cell": false,
   "toc_position": {},
   "toc_section_display": true,
   "toc_window_display": false
  }
 },
 "nbformat": 4,
 "nbformat_minor": 1
}
